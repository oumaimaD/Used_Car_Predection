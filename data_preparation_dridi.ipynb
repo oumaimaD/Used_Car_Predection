{
  "nbformat": 4,
  "nbformat_minor": 0,
  "metadata": {
    "colab": {
      "name": "data_preparation_dridi",
      "provenance": [],
      "toc_visible": true
    },
    "kernelspec": {
      "name": "python3",
      "display_name": "Python 3"
    },
    "language_info": {
      "name": "python"
    }
  },
  "cells": [
    {
      "cell_type": "code",
      "execution_count": null,
      "metadata": {
        "id": "aBykJ3B_kX9b"
      },
      "outputs": [],
      "source": [
        "#importing librairies\n",
        "import numpy as np\n",
        "import pandas as pd\n",
        "import seaborn as sns\n",
        "import matplotlib.pyplot as plt\n",
        "import re\n",
        "%matplotlib inline"
      ]
    },
    {
      "cell_type": "code",
      "source": [
        "#Automobile Dataset\n",
        "Automobile_dataset = pd.read_csv('cleaned_automobile.csv')\n",
        "Automobile_dataset"
      ],
      "metadata": {
        "colab": {
          "base_uri": "https://localhost:8080/",
          "height": 423
        },
        "id": "3Smp4cQNk_qE",
        "outputId": "9cfb8f8d-20a7-4c23-c534-634b7304ce8b"
      },
      "execution_count": null,
      "outputs": [
        {
          "output_type": "execute_result",
          "data": {
            "text/plain": [
              "      Unnamed: 0                                          name     price  \\\n",
              "0              0                        Geely GC6 1.5L essence   38500.0   \n",
              "1              1                               Toyota Prado VX  105000.0   \n",
              "2              2                                  BMW X3 2.0 D   58000.0   \n",
              "3              3          Mercedes-Benz Classe E coupé KIT AMG  217000.0   \n",
              "4              4                        Nissan Qashqai TEKNA +   79000.0   \n",
              "...          ...                                           ...       ...   \n",
              "2395        2395                    Land Rover Range Rover SVR  560000.0   \n",
              "2396        2396                 Land Rover Range Rover Evoque   94000.0   \n",
              "2397        2397  Porsche Panamera S - V 6 - FACELIFT E-HYBRID  395000.0   \n",
              "2398        2398              Mercedes-Benz Classe E coupé AMG   99000.0   \n",
              "2399        2399                                       Audi A3   40000.0   \n",
              "\n",
              "             marque                                modele Transmission  \\\n",
              "0             Geely                      GC6 1.5L essence     Manuelle   \n",
              "1            Toyota                              Prado VX     Manuelle   \n",
              "2               BMW                              X3 2.0 D     Manuelle   \n",
              "3     Mercedes-Benz                Classe E coupé KIT AMG  Automatique   \n",
              "4            Nissan                       Qashqai TEKNA +  Automatique   \n",
              "...             ...                                   ...          ...   \n",
              "2395           Land                 Rover Range Rover SVR  Automatique   \n",
              "2396           Land              Rover Range Rover Evoque     Manuelle   \n",
              "2397        Porsche  Panamera S - V 6 - FACELIFT E-HYBRID  Automatique   \n",
              "2398  Mercedes-Benz                    Classe E coupé AMG  Automatique   \n",
              "2399           Audi                                    A3     Manuelle   \n",
              "\n",
              "     Carburant  Annee  Kilométrage  \n",
              "0      Essence   2020        19800  \n",
              "1       Diesel   2008       154000  \n",
              "2       Diesel   2006       125000  \n",
              "3      Essence   2017       102000  \n",
              "4      Essence   2017       115000  \n",
              "...        ...    ...          ...  \n",
              "2395   Essence   2016        67000  \n",
              "2396    Diesel   2012       210000  \n",
              "2397   Essence   2014        66000  \n",
              "2398   Essence   2015       122000  \n",
              "2399   Essence   2005       160000  \n",
              "\n",
              "[2400 rows x 9 columns]"
            ],
            "text/html": [
              "\n",
              "  <div id=\"df-33184c86-2fbb-46ab-8b8a-90e571e96155\">\n",
              "    <div class=\"colab-df-container\">\n",
              "      <div>\n",
              "<style scoped>\n",
              "    .dataframe tbody tr th:only-of-type {\n",
              "        vertical-align: middle;\n",
              "    }\n",
              "\n",
              "    .dataframe tbody tr th {\n",
              "        vertical-align: top;\n",
              "    }\n",
              "\n",
              "    .dataframe thead th {\n",
              "        text-align: right;\n",
              "    }\n",
              "</style>\n",
              "<table border=\"1\" class=\"dataframe\">\n",
              "  <thead>\n",
              "    <tr style=\"text-align: right;\">\n",
              "      <th></th>\n",
              "      <th>Unnamed: 0</th>\n",
              "      <th>name</th>\n",
              "      <th>price</th>\n",
              "      <th>marque</th>\n",
              "      <th>modele</th>\n",
              "      <th>Transmission</th>\n",
              "      <th>Carburant</th>\n",
              "      <th>Annee</th>\n",
              "      <th>Kilométrage</th>\n",
              "    </tr>\n",
              "  </thead>\n",
              "  <tbody>\n",
              "    <tr>\n",
              "      <th>0</th>\n",
              "      <td>0</td>\n",
              "      <td>Geely GC6 1.5L essence</td>\n",
              "      <td>38500.0</td>\n",
              "      <td>Geely</td>\n",
              "      <td>GC6 1.5L essence</td>\n",
              "      <td>Manuelle</td>\n",
              "      <td>Essence</td>\n",
              "      <td>2020</td>\n",
              "      <td>19800</td>\n",
              "    </tr>\n",
              "    <tr>\n",
              "      <th>1</th>\n",
              "      <td>1</td>\n",
              "      <td>Toyota Prado VX</td>\n",
              "      <td>105000.0</td>\n",
              "      <td>Toyota</td>\n",
              "      <td>Prado VX</td>\n",
              "      <td>Manuelle</td>\n",
              "      <td>Diesel</td>\n",
              "      <td>2008</td>\n",
              "      <td>154000</td>\n",
              "    </tr>\n",
              "    <tr>\n",
              "      <th>2</th>\n",
              "      <td>2</td>\n",
              "      <td>BMW X3 2.0 D</td>\n",
              "      <td>58000.0</td>\n",
              "      <td>BMW</td>\n",
              "      <td>X3 2.0 D</td>\n",
              "      <td>Manuelle</td>\n",
              "      <td>Diesel</td>\n",
              "      <td>2006</td>\n",
              "      <td>125000</td>\n",
              "    </tr>\n",
              "    <tr>\n",
              "      <th>3</th>\n",
              "      <td>3</td>\n",
              "      <td>Mercedes-Benz Classe E coupé KIT AMG</td>\n",
              "      <td>217000.0</td>\n",
              "      <td>Mercedes-Benz</td>\n",
              "      <td>Classe E coupé KIT AMG</td>\n",
              "      <td>Automatique</td>\n",
              "      <td>Essence</td>\n",
              "      <td>2017</td>\n",
              "      <td>102000</td>\n",
              "    </tr>\n",
              "    <tr>\n",
              "      <th>4</th>\n",
              "      <td>4</td>\n",
              "      <td>Nissan Qashqai TEKNA +</td>\n",
              "      <td>79000.0</td>\n",
              "      <td>Nissan</td>\n",
              "      <td>Qashqai TEKNA +</td>\n",
              "      <td>Automatique</td>\n",
              "      <td>Essence</td>\n",
              "      <td>2017</td>\n",
              "      <td>115000</td>\n",
              "    </tr>\n",
              "    <tr>\n",
              "      <th>...</th>\n",
              "      <td>...</td>\n",
              "      <td>...</td>\n",
              "      <td>...</td>\n",
              "      <td>...</td>\n",
              "      <td>...</td>\n",
              "      <td>...</td>\n",
              "      <td>...</td>\n",
              "      <td>...</td>\n",
              "      <td>...</td>\n",
              "    </tr>\n",
              "    <tr>\n",
              "      <th>2395</th>\n",
              "      <td>2395</td>\n",
              "      <td>Land Rover Range Rover SVR</td>\n",
              "      <td>560000.0</td>\n",
              "      <td>Land</td>\n",
              "      <td>Rover Range Rover SVR</td>\n",
              "      <td>Automatique</td>\n",
              "      <td>Essence</td>\n",
              "      <td>2016</td>\n",
              "      <td>67000</td>\n",
              "    </tr>\n",
              "    <tr>\n",
              "      <th>2396</th>\n",
              "      <td>2396</td>\n",
              "      <td>Land Rover Range Rover Evoque</td>\n",
              "      <td>94000.0</td>\n",
              "      <td>Land</td>\n",
              "      <td>Rover Range Rover Evoque</td>\n",
              "      <td>Manuelle</td>\n",
              "      <td>Diesel</td>\n",
              "      <td>2012</td>\n",
              "      <td>210000</td>\n",
              "    </tr>\n",
              "    <tr>\n",
              "      <th>2397</th>\n",
              "      <td>2397</td>\n",
              "      <td>Porsche Panamera S - V 6 - FACELIFT E-HYBRID</td>\n",
              "      <td>395000.0</td>\n",
              "      <td>Porsche</td>\n",
              "      <td>Panamera S - V 6 - FACELIFT E-HYBRID</td>\n",
              "      <td>Automatique</td>\n",
              "      <td>Essence</td>\n",
              "      <td>2014</td>\n",
              "      <td>66000</td>\n",
              "    </tr>\n",
              "    <tr>\n",
              "      <th>2398</th>\n",
              "      <td>2398</td>\n",
              "      <td>Mercedes-Benz Classe E coupé AMG</td>\n",
              "      <td>99000.0</td>\n",
              "      <td>Mercedes-Benz</td>\n",
              "      <td>Classe E coupé AMG</td>\n",
              "      <td>Automatique</td>\n",
              "      <td>Essence</td>\n",
              "      <td>2015</td>\n",
              "      <td>122000</td>\n",
              "    </tr>\n",
              "    <tr>\n",
              "      <th>2399</th>\n",
              "      <td>2399</td>\n",
              "      <td>Audi A3</td>\n",
              "      <td>40000.0</td>\n",
              "      <td>Audi</td>\n",
              "      <td>A3</td>\n",
              "      <td>Manuelle</td>\n",
              "      <td>Essence</td>\n",
              "      <td>2005</td>\n",
              "      <td>160000</td>\n",
              "    </tr>\n",
              "  </tbody>\n",
              "</table>\n",
              "<p>2400 rows × 9 columns</p>\n",
              "</div>\n",
              "      <button class=\"colab-df-convert\" onclick=\"convertToInteractive('df-33184c86-2fbb-46ab-8b8a-90e571e96155')\"\n",
              "              title=\"Convert this dataframe to an interactive table.\"\n",
              "              style=\"display:none;\">\n",
              "        \n",
              "  <svg xmlns=\"http://www.w3.org/2000/svg\" height=\"24px\"viewBox=\"0 0 24 24\"\n",
              "       width=\"24px\">\n",
              "    <path d=\"M0 0h24v24H0V0z\" fill=\"none\"/>\n",
              "    <path d=\"M18.56 5.44l.94 2.06.94-2.06 2.06-.94-2.06-.94-.94-2.06-.94 2.06-2.06.94zm-11 1L8.5 8.5l.94-2.06 2.06-.94-2.06-.94L8.5 2.5l-.94 2.06-2.06.94zm10 10l.94 2.06.94-2.06 2.06-.94-2.06-.94-.94-2.06-.94 2.06-2.06.94z\"/><path d=\"M17.41 7.96l-1.37-1.37c-.4-.4-.92-.59-1.43-.59-.52 0-1.04.2-1.43.59L10.3 9.45l-7.72 7.72c-.78.78-.78 2.05 0 2.83L4 21.41c.39.39.9.59 1.41.59.51 0 1.02-.2 1.41-.59l7.78-7.78 2.81-2.81c.8-.78.8-2.07 0-2.86zM5.41 20L4 18.59l7.72-7.72 1.47 1.35L5.41 20z\"/>\n",
              "  </svg>\n",
              "      </button>\n",
              "      \n",
              "  <style>\n",
              "    .colab-df-container {\n",
              "      display:flex;\n",
              "      flex-wrap:wrap;\n",
              "      gap: 12px;\n",
              "    }\n",
              "\n",
              "    .colab-df-convert {\n",
              "      background-color: #E8F0FE;\n",
              "      border: none;\n",
              "      border-radius: 50%;\n",
              "      cursor: pointer;\n",
              "      display: none;\n",
              "      fill: #1967D2;\n",
              "      height: 32px;\n",
              "      padding: 0 0 0 0;\n",
              "      width: 32px;\n",
              "    }\n",
              "\n",
              "    .colab-df-convert:hover {\n",
              "      background-color: #E2EBFA;\n",
              "      box-shadow: 0px 1px 2px rgba(60, 64, 67, 0.3), 0px 1px 3px 1px rgba(60, 64, 67, 0.15);\n",
              "      fill: #174EA6;\n",
              "    }\n",
              "\n",
              "    [theme=dark] .colab-df-convert {\n",
              "      background-color: #3B4455;\n",
              "      fill: #D2E3FC;\n",
              "    }\n",
              "\n",
              "    [theme=dark] .colab-df-convert:hover {\n",
              "      background-color: #434B5C;\n",
              "      box-shadow: 0px 1px 3px 1px rgba(0, 0, 0, 0.15);\n",
              "      filter: drop-shadow(0px 1px 2px rgba(0, 0, 0, 0.3));\n",
              "      fill: #FFFFFF;\n",
              "    }\n",
              "  </style>\n",
              "\n",
              "      <script>\n",
              "        const buttonEl =\n",
              "          document.querySelector('#df-33184c86-2fbb-46ab-8b8a-90e571e96155 button.colab-df-convert');\n",
              "        buttonEl.style.display =\n",
              "          google.colab.kernel.accessAllowed ? 'block' : 'none';\n",
              "\n",
              "        async function convertToInteractive(key) {\n",
              "          const element = document.querySelector('#df-33184c86-2fbb-46ab-8b8a-90e571e96155');\n",
              "          const dataTable =\n",
              "            await google.colab.kernel.invokeFunction('convertToInteractive',\n",
              "                                                     [key], {});\n",
              "          if (!dataTable) return;\n",
              "\n",
              "          const docLinkHtml = 'Like what you see? Visit the ' +\n",
              "            '<a target=\"_blank\" href=https://colab.research.google.com/notebooks/data_table.ipynb>data table notebook</a>'\n",
              "            + ' to learn more about interactive tables.';\n",
              "          element.innerHTML = '';\n",
              "          dataTable['output_type'] = 'display_data';\n",
              "          await google.colab.output.renderOutput(dataTable, element);\n",
              "          const docLink = document.createElement('div');\n",
              "          docLink.innerHTML = docLinkHtml;\n",
              "          element.appendChild(docLink);\n",
              "        }\n",
              "      </script>\n",
              "    </div>\n",
              "  </div>\n",
              "  "
            ]
          },
          "metadata": {},
          "execution_count": 62
        }
      ]
    },
    {
      "cell_type": "code",
      "source": [
        "#Ballouchi Dataset\n",
        "Ballouchi_dataset = pd.read_csv('cleaned_Ballouchi.csv')\n",
        "Ballouchi_dataset"
      ],
      "metadata": {
        "colab": {
          "base_uri": "https://localhost:8080/",
          "height": 423
        },
        "id": "rTVbA0hTlABN",
        "outputId": "66c390fa-bff3-4fd5-ec59-46766cf779a2"
      },
      "execution_count": null,
      "outputs": [
        {
          "output_type": "execute_result",
          "data": {
            "text/plain": [
              "      Unnamed: 0                                               name     price  \\\n",
              "0              0                          Peugeot 301 très bon état  125000.0   \n",
              "1              1                               BMW serie 5 a vendre  125000.0   \n",
              "2              2                                        peugeot 301   25000.0   \n",
              "3              4                                         av mazda 2   37000.0   \n",
              "4              5                                         205 JUNIOR    4900.0   \n",
              "...          ...                                                ...       ...   \n",
              "4740        7582  Peugeot 607 toutes options avec cuir jantes al...   17000.0   \n",
              "4741        7584                          Opel corsa swing à vendre    6500.0   \n",
              "4742        7587                             belle passat b6 esance   28500.0   \n",
              "4743        7588                                        opel vectra    4500.0   \n",
              "4744        7589                                        kia avendre   18000.0   \n",
              "\n",
              "           marque    modele Transmission Carburant  Annee  Kilométrage  \n",
              "0        Peugeot        301            0         0      0            0  \n",
              "1            BMW        520  Automatique   Essence   2017        80000  \n",
              "2        Peugeot        301     Manuelle   Essence   2018        78000  \n",
              "3          Mazda          2     Manuelle   Essence   2013       150000  \n",
              "4        Peugeot        205            0         0   1985            0  \n",
              "...           ...       ...          ...       ...    ...          ...  \n",
              "4740     Peugeot        607            0         0   2001            0  \n",
              "4741        Opel      Corsa            0         0   1996            0  \n",
              "4742  Volkswagen     Passat            0         0      0            0  \n",
              "4743        Opel     Vectra            0         0      0            0  \n",
              "4744         Kia    Picanto     Manuelle   Essence   2010       234000  \n",
              "\n",
              "[4745 rows x 9 columns]"
            ],
            "text/html": [
              "\n",
              "  <div id=\"df-bc74c4eb-715f-4c07-83ff-3af30a90aa4e\">\n",
              "    <div class=\"colab-df-container\">\n",
              "      <div>\n",
              "<style scoped>\n",
              "    .dataframe tbody tr th:only-of-type {\n",
              "        vertical-align: middle;\n",
              "    }\n",
              "\n",
              "    .dataframe tbody tr th {\n",
              "        vertical-align: top;\n",
              "    }\n",
              "\n",
              "    .dataframe thead th {\n",
              "        text-align: right;\n",
              "    }\n",
              "</style>\n",
              "<table border=\"1\" class=\"dataframe\">\n",
              "  <thead>\n",
              "    <tr style=\"text-align: right;\">\n",
              "      <th></th>\n",
              "      <th>Unnamed: 0</th>\n",
              "      <th>name</th>\n",
              "      <th>price</th>\n",
              "      <th>marque</th>\n",
              "      <th>modele</th>\n",
              "      <th>Transmission</th>\n",
              "      <th>Carburant</th>\n",
              "      <th>Annee</th>\n",
              "      <th>Kilométrage</th>\n",
              "    </tr>\n",
              "  </thead>\n",
              "  <tbody>\n",
              "    <tr>\n",
              "      <th>0</th>\n",
              "      <td>0</td>\n",
              "      <td>Peugeot 301 très bon état</td>\n",
              "      <td>125000.0</td>\n",
              "      <td>Peugeot</td>\n",
              "      <td>301</td>\n",
              "      <td>0</td>\n",
              "      <td>0</td>\n",
              "      <td>0</td>\n",
              "      <td>0</td>\n",
              "    </tr>\n",
              "    <tr>\n",
              "      <th>1</th>\n",
              "      <td>1</td>\n",
              "      <td>BMW serie 5 a vendre</td>\n",
              "      <td>125000.0</td>\n",
              "      <td>BMW</td>\n",
              "      <td>520</td>\n",
              "      <td>Automatique</td>\n",
              "      <td>Essence</td>\n",
              "      <td>2017</td>\n",
              "      <td>80000</td>\n",
              "    </tr>\n",
              "    <tr>\n",
              "      <th>2</th>\n",
              "      <td>2</td>\n",
              "      <td>peugeot 301</td>\n",
              "      <td>25000.0</td>\n",
              "      <td>Peugeot</td>\n",
              "      <td>301</td>\n",
              "      <td>Manuelle</td>\n",
              "      <td>Essence</td>\n",
              "      <td>2018</td>\n",
              "      <td>78000</td>\n",
              "    </tr>\n",
              "    <tr>\n",
              "      <th>3</th>\n",
              "      <td>4</td>\n",
              "      <td>av mazda 2</td>\n",
              "      <td>37000.0</td>\n",
              "      <td>Mazda</td>\n",
              "      <td>2</td>\n",
              "      <td>Manuelle</td>\n",
              "      <td>Essence</td>\n",
              "      <td>2013</td>\n",
              "      <td>150000</td>\n",
              "    </tr>\n",
              "    <tr>\n",
              "      <th>4</th>\n",
              "      <td>5</td>\n",
              "      <td>205 JUNIOR</td>\n",
              "      <td>4900.0</td>\n",
              "      <td>Peugeot</td>\n",
              "      <td>205</td>\n",
              "      <td>0</td>\n",
              "      <td>0</td>\n",
              "      <td>1985</td>\n",
              "      <td>0</td>\n",
              "    </tr>\n",
              "    <tr>\n",
              "      <th>...</th>\n",
              "      <td>...</td>\n",
              "      <td>...</td>\n",
              "      <td>...</td>\n",
              "      <td>...</td>\n",
              "      <td>...</td>\n",
              "      <td>...</td>\n",
              "      <td>...</td>\n",
              "      <td>...</td>\n",
              "      <td>...</td>\n",
              "    </tr>\n",
              "    <tr>\n",
              "      <th>4740</th>\n",
              "      <td>7582</td>\n",
              "      <td>Peugeot 607 toutes options avec cuir jantes al...</td>\n",
              "      <td>17000.0</td>\n",
              "      <td>Peugeot</td>\n",
              "      <td>607</td>\n",
              "      <td>0</td>\n",
              "      <td>0</td>\n",
              "      <td>2001</td>\n",
              "      <td>0</td>\n",
              "    </tr>\n",
              "    <tr>\n",
              "      <th>4741</th>\n",
              "      <td>7584</td>\n",
              "      <td>Opel corsa swing à vendre</td>\n",
              "      <td>6500.0</td>\n",
              "      <td>Opel</td>\n",
              "      <td>Corsa</td>\n",
              "      <td>0</td>\n",
              "      <td>0</td>\n",
              "      <td>1996</td>\n",
              "      <td>0</td>\n",
              "    </tr>\n",
              "    <tr>\n",
              "      <th>4742</th>\n",
              "      <td>7587</td>\n",
              "      <td>belle passat b6 esance</td>\n",
              "      <td>28500.0</td>\n",
              "      <td>Volkswagen</td>\n",
              "      <td>Passat</td>\n",
              "      <td>0</td>\n",
              "      <td>0</td>\n",
              "      <td>0</td>\n",
              "      <td>0</td>\n",
              "    </tr>\n",
              "    <tr>\n",
              "      <th>4743</th>\n",
              "      <td>7588</td>\n",
              "      <td>opel vectra</td>\n",
              "      <td>4500.0</td>\n",
              "      <td>Opel</td>\n",
              "      <td>Vectra</td>\n",
              "      <td>0</td>\n",
              "      <td>0</td>\n",
              "      <td>0</td>\n",
              "      <td>0</td>\n",
              "    </tr>\n",
              "    <tr>\n",
              "      <th>4744</th>\n",
              "      <td>7589</td>\n",
              "      <td>kia avendre</td>\n",
              "      <td>18000.0</td>\n",
              "      <td>Kia</td>\n",
              "      <td>Picanto</td>\n",
              "      <td>Manuelle</td>\n",
              "      <td>Essence</td>\n",
              "      <td>2010</td>\n",
              "      <td>234000</td>\n",
              "    </tr>\n",
              "  </tbody>\n",
              "</table>\n",
              "<p>4745 rows × 9 columns</p>\n",
              "</div>\n",
              "      <button class=\"colab-df-convert\" onclick=\"convertToInteractive('df-bc74c4eb-715f-4c07-83ff-3af30a90aa4e')\"\n",
              "              title=\"Convert this dataframe to an interactive table.\"\n",
              "              style=\"display:none;\">\n",
              "        \n",
              "  <svg xmlns=\"http://www.w3.org/2000/svg\" height=\"24px\"viewBox=\"0 0 24 24\"\n",
              "       width=\"24px\">\n",
              "    <path d=\"M0 0h24v24H0V0z\" fill=\"none\"/>\n",
              "    <path d=\"M18.56 5.44l.94 2.06.94-2.06 2.06-.94-2.06-.94-.94-2.06-.94 2.06-2.06.94zm-11 1L8.5 8.5l.94-2.06 2.06-.94-2.06-.94L8.5 2.5l-.94 2.06-2.06.94zm10 10l.94 2.06.94-2.06 2.06-.94-2.06-.94-.94-2.06-.94 2.06-2.06.94z\"/><path d=\"M17.41 7.96l-1.37-1.37c-.4-.4-.92-.59-1.43-.59-.52 0-1.04.2-1.43.59L10.3 9.45l-7.72 7.72c-.78.78-.78 2.05 0 2.83L4 21.41c.39.39.9.59 1.41.59.51 0 1.02-.2 1.41-.59l7.78-7.78 2.81-2.81c.8-.78.8-2.07 0-2.86zM5.41 20L4 18.59l7.72-7.72 1.47 1.35L5.41 20z\"/>\n",
              "  </svg>\n",
              "      </button>\n",
              "      \n",
              "  <style>\n",
              "    .colab-df-container {\n",
              "      display:flex;\n",
              "      flex-wrap:wrap;\n",
              "      gap: 12px;\n",
              "    }\n",
              "\n",
              "    .colab-df-convert {\n",
              "      background-color: #E8F0FE;\n",
              "      border: none;\n",
              "      border-radius: 50%;\n",
              "      cursor: pointer;\n",
              "      display: none;\n",
              "      fill: #1967D2;\n",
              "      height: 32px;\n",
              "      padding: 0 0 0 0;\n",
              "      width: 32px;\n",
              "    }\n",
              "\n",
              "    .colab-df-convert:hover {\n",
              "      background-color: #E2EBFA;\n",
              "      box-shadow: 0px 1px 2px rgba(60, 64, 67, 0.3), 0px 1px 3px 1px rgba(60, 64, 67, 0.15);\n",
              "      fill: #174EA6;\n",
              "    }\n",
              "\n",
              "    [theme=dark] .colab-df-convert {\n",
              "      background-color: #3B4455;\n",
              "      fill: #D2E3FC;\n",
              "    }\n",
              "\n",
              "    [theme=dark] .colab-df-convert:hover {\n",
              "      background-color: #434B5C;\n",
              "      box-shadow: 0px 1px 3px 1px rgba(0, 0, 0, 0.15);\n",
              "      filter: drop-shadow(0px 1px 2px rgba(0, 0, 0, 0.3));\n",
              "      fill: #FFFFFF;\n",
              "    }\n",
              "  </style>\n",
              "\n",
              "      <script>\n",
              "        const buttonEl =\n",
              "          document.querySelector('#df-bc74c4eb-715f-4c07-83ff-3af30a90aa4e button.colab-df-convert');\n",
              "        buttonEl.style.display =\n",
              "          google.colab.kernel.accessAllowed ? 'block' : 'none';\n",
              "\n",
              "        async function convertToInteractive(key) {\n",
              "          const element = document.querySelector('#df-bc74c4eb-715f-4c07-83ff-3af30a90aa4e');\n",
              "          const dataTable =\n",
              "            await google.colab.kernel.invokeFunction('convertToInteractive',\n",
              "                                                     [key], {});\n",
              "          if (!dataTable) return;\n",
              "\n",
              "          const docLinkHtml = 'Like what you see? Visit the ' +\n",
              "            '<a target=\"_blank\" href=https://colab.research.google.com/notebooks/data_table.ipynb>data table notebook</a>'\n",
              "            + ' to learn more about interactive tables.';\n",
              "          element.innerHTML = '';\n",
              "          dataTable['output_type'] = 'display_data';\n",
              "          await google.colab.output.renderOutput(dataTable, element);\n",
              "          const docLink = document.createElement('div');\n",
              "          docLink.innerHTML = docLinkHtml;\n",
              "          element.appendChild(docLink);\n",
              "        }\n",
              "      </script>\n",
              "    </div>\n",
              "  </div>\n",
              "  "
            ]
          },
          "metadata": {},
          "execution_count": 63
        }
      ]
    },
    {
      "cell_type": "code",
      "source": [
        "#jumia Dataset\n",
        "jumia_dataset = pd.read_csv('cleaned_Jumia.csv')"
      ],
      "metadata": {
        "id": "PzfZyFLPlAMZ"
      },
      "execution_count": null,
      "outputs": []
    },
    {
      "cell_type": "code",
      "source": [
        "alpha_dataset = pd.read_csv('alpha_cleaned.xlsx')"
      ],
      "metadata": {
        "id": "iXP31kRdlAO4"
      },
      "execution_count": null,
      "outputs": []
    },
    {
      "cell_type": "code",
      "source": [
        "samixmohsen = pd.read_csv('samixmohsen.csv')"
      ],
      "metadata": {
        "id": "CrWYIjVjlARY"
      },
      "execution_count": null,
      "outputs": []
    },
    {
      "cell_type": "code",
      "source": [
        "#mergin datasets into one \n",
        "df = pd.concat([ Automobile_dataset , Ballouchi_dataset,  jumia_dataset , alpha_dataset , samixmohsen ]  , ignore_index = True)\n",
        "df"
      ],
      "metadata": {
        "colab": {
          "base_uri": "https://localhost:8080/",
          "height": 423
        },
        "id": "MHUrtqWnlAT2",
        "outputId": "1e01722c-334f-4d6a-832b-3b3cb351de5d"
      },
      "execution_count": null,
      "outputs": [
        {
          "output_type": "execute_result",
          "data": {
            "text/plain": [
              "       Unnamed: 0                                  name     price  \\\n",
              "0               0                Geely GC6 1.5L essence   38500.0   \n",
              "1               1                       Toyota Prado VX  105000.0   \n",
              "2               2                          BMW X3 2.0 D   58000.0   \n",
              "3               3  Mercedes-Benz Classe E coupé KIT AMG  217000.0   \n",
              "4               4                Nissan Qashqai TEKNA +   79000.0   \n",
              "...           ...                                   ...       ...   \n",
              "40244       31721                                   NaN   11300.0   \n",
              "40245       31722                                   NaN       0.0   \n",
              "40246       31723                                   NaN   30000.0   \n",
              "40247       31724                                   NaN       0.0   \n",
              "40248       31725                                   NaN   10500.0   \n",
              "\n",
              "              marque                  modele Transmission Carburant   Annee  \\\n",
              "0              Geely        GC6 1.5L essence     Manuelle   Essence  2020.0   \n",
              "1             Toyota                Prado VX     Manuelle    Diesel  2008.0   \n",
              "2                BMW                X3 2.0 D     Manuelle    Diesel  2006.0   \n",
              "3      Mercedes-Benz  Classe E coupé KIT AMG  Automatique   Essence  2017.0   \n",
              "4             Nissan         Qashqai TEKNA +  Automatique   Essence  2017.0   \n",
              "...              ...                     ...          ...       ...     ...   \n",
              "40244        Renault                    Clio     Manuelle   Essence  1993.0   \n",
              "40245            BMW                 Serie 3     Manuelle   Essence  2007.0   \n",
              "40246        Citroen                      C4     Manuelle   Essence  2014.0   \n",
              "40247        Citroen                      C5     Manuelle    Diesel  2009.0   \n",
              "40248           Fiat                   Punto     Manuelle   Essence  2000.0   \n",
              "\n",
              "       Kilométrage  \n",
              "0          19800.0  \n",
              "1         154000.0  \n",
              "2         125000.0  \n",
              "3         102000.0  \n",
              "4         115000.0  \n",
              "...            ...  \n",
              "40244     295000.0  \n",
              "40245        184.0  \n",
              "40246     180000.0  \n",
              "40247          0.0  \n",
              "40248     208470.0  \n",
              "\n",
              "[40249 rows x 9 columns]"
            ],
            "text/html": [
              "\n",
              "  <div id=\"df-1da49eff-0148-4a55-bc9f-cac1b2df44fb\">\n",
              "    <div class=\"colab-df-container\">\n",
              "      <div>\n",
              "<style scoped>\n",
              "    .dataframe tbody tr th:only-of-type {\n",
              "        vertical-align: middle;\n",
              "    }\n",
              "\n",
              "    .dataframe tbody tr th {\n",
              "        vertical-align: top;\n",
              "    }\n",
              "\n",
              "    .dataframe thead th {\n",
              "        text-align: right;\n",
              "    }\n",
              "</style>\n",
              "<table border=\"1\" class=\"dataframe\">\n",
              "  <thead>\n",
              "    <tr style=\"text-align: right;\">\n",
              "      <th></th>\n",
              "      <th>Unnamed: 0</th>\n",
              "      <th>name</th>\n",
              "      <th>price</th>\n",
              "      <th>marque</th>\n",
              "      <th>modele</th>\n",
              "      <th>Transmission</th>\n",
              "      <th>Carburant</th>\n",
              "      <th>Annee</th>\n",
              "      <th>Kilométrage</th>\n",
              "    </tr>\n",
              "  </thead>\n",
              "  <tbody>\n",
              "    <tr>\n",
              "      <th>0</th>\n",
              "      <td>0</td>\n",
              "      <td>Geely GC6 1.5L essence</td>\n",
              "      <td>38500.0</td>\n",
              "      <td>Geely</td>\n",
              "      <td>GC6 1.5L essence</td>\n",
              "      <td>Manuelle</td>\n",
              "      <td>Essence</td>\n",
              "      <td>2020.0</td>\n",
              "      <td>19800.0</td>\n",
              "    </tr>\n",
              "    <tr>\n",
              "      <th>1</th>\n",
              "      <td>1</td>\n",
              "      <td>Toyota Prado VX</td>\n",
              "      <td>105000.0</td>\n",
              "      <td>Toyota</td>\n",
              "      <td>Prado VX</td>\n",
              "      <td>Manuelle</td>\n",
              "      <td>Diesel</td>\n",
              "      <td>2008.0</td>\n",
              "      <td>154000.0</td>\n",
              "    </tr>\n",
              "    <tr>\n",
              "      <th>2</th>\n",
              "      <td>2</td>\n",
              "      <td>BMW X3 2.0 D</td>\n",
              "      <td>58000.0</td>\n",
              "      <td>BMW</td>\n",
              "      <td>X3 2.0 D</td>\n",
              "      <td>Manuelle</td>\n",
              "      <td>Diesel</td>\n",
              "      <td>2006.0</td>\n",
              "      <td>125000.0</td>\n",
              "    </tr>\n",
              "    <tr>\n",
              "      <th>3</th>\n",
              "      <td>3</td>\n",
              "      <td>Mercedes-Benz Classe E coupé KIT AMG</td>\n",
              "      <td>217000.0</td>\n",
              "      <td>Mercedes-Benz</td>\n",
              "      <td>Classe E coupé KIT AMG</td>\n",
              "      <td>Automatique</td>\n",
              "      <td>Essence</td>\n",
              "      <td>2017.0</td>\n",
              "      <td>102000.0</td>\n",
              "    </tr>\n",
              "    <tr>\n",
              "      <th>4</th>\n",
              "      <td>4</td>\n",
              "      <td>Nissan Qashqai TEKNA +</td>\n",
              "      <td>79000.0</td>\n",
              "      <td>Nissan</td>\n",
              "      <td>Qashqai TEKNA +</td>\n",
              "      <td>Automatique</td>\n",
              "      <td>Essence</td>\n",
              "      <td>2017.0</td>\n",
              "      <td>115000.0</td>\n",
              "    </tr>\n",
              "    <tr>\n",
              "      <th>...</th>\n",
              "      <td>...</td>\n",
              "      <td>...</td>\n",
              "      <td>...</td>\n",
              "      <td>...</td>\n",
              "      <td>...</td>\n",
              "      <td>...</td>\n",
              "      <td>...</td>\n",
              "      <td>...</td>\n",
              "      <td>...</td>\n",
              "    </tr>\n",
              "    <tr>\n",
              "      <th>40244</th>\n",
              "      <td>31721</td>\n",
              "      <td>NaN</td>\n",
              "      <td>11300.0</td>\n",
              "      <td>Renault</td>\n",
              "      <td>Clio</td>\n",
              "      <td>Manuelle</td>\n",
              "      <td>Essence</td>\n",
              "      <td>1993.0</td>\n",
              "      <td>295000.0</td>\n",
              "    </tr>\n",
              "    <tr>\n",
              "      <th>40245</th>\n",
              "      <td>31722</td>\n",
              "      <td>NaN</td>\n",
              "      <td>0.0</td>\n",
              "      <td>BMW</td>\n",
              "      <td>Serie 3</td>\n",
              "      <td>Manuelle</td>\n",
              "      <td>Essence</td>\n",
              "      <td>2007.0</td>\n",
              "      <td>184.0</td>\n",
              "    </tr>\n",
              "    <tr>\n",
              "      <th>40246</th>\n",
              "      <td>31723</td>\n",
              "      <td>NaN</td>\n",
              "      <td>30000.0</td>\n",
              "      <td>Citroen</td>\n",
              "      <td>C4</td>\n",
              "      <td>Manuelle</td>\n",
              "      <td>Essence</td>\n",
              "      <td>2014.0</td>\n",
              "      <td>180000.0</td>\n",
              "    </tr>\n",
              "    <tr>\n",
              "      <th>40247</th>\n",
              "      <td>31724</td>\n",
              "      <td>NaN</td>\n",
              "      <td>0.0</td>\n",
              "      <td>Citroen</td>\n",
              "      <td>C5</td>\n",
              "      <td>Manuelle</td>\n",
              "      <td>Diesel</td>\n",
              "      <td>2009.0</td>\n",
              "      <td>0.0</td>\n",
              "    </tr>\n",
              "    <tr>\n",
              "      <th>40248</th>\n",
              "      <td>31725</td>\n",
              "      <td>NaN</td>\n",
              "      <td>10500.0</td>\n",
              "      <td>Fiat</td>\n",
              "      <td>Punto</td>\n",
              "      <td>Manuelle</td>\n",
              "      <td>Essence</td>\n",
              "      <td>2000.0</td>\n",
              "      <td>208470.0</td>\n",
              "    </tr>\n",
              "  </tbody>\n",
              "</table>\n",
              "<p>40249 rows × 9 columns</p>\n",
              "</div>\n",
              "      <button class=\"colab-df-convert\" onclick=\"convertToInteractive('df-1da49eff-0148-4a55-bc9f-cac1b2df44fb')\"\n",
              "              title=\"Convert this dataframe to an interactive table.\"\n",
              "              style=\"display:none;\">\n",
              "        \n",
              "  <svg xmlns=\"http://www.w3.org/2000/svg\" height=\"24px\"viewBox=\"0 0 24 24\"\n",
              "       width=\"24px\">\n",
              "    <path d=\"M0 0h24v24H0V0z\" fill=\"none\"/>\n",
              "    <path d=\"M18.56 5.44l.94 2.06.94-2.06 2.06-.94-2.06-.94-.94-2.06-.94 2.06-2.06.94zm-11 1L8.5 8.5l.94-2.06 2.06-.94-2.06-.94L8.5 2.5l-.94 2.06-2.06.94zm10 10l.94 2.06.94-2.06 2.06-.94-2.06-.94-.94-2.06-.94 2.06-2.06.94z\"/><path d=\"M17.41 7.96l-1.37-1.37c-.4-.4-.92-.59-1.43-.59-.52 0-1.04.2-1.43.59L10.3 9.45l-7.72 7.72c-.78.78-.78 2.05 0 2.83L4 21.41c.39.39.9.59 1.41.59.51 0 1.02-.2 1.41-.59l7.78-7.78 2.81-2.81c.8-.78.8-2.07 0-2.86zM5.41 20L4 18.59l7.72-7.72 1.47 1.35L5.41 20z\"/>\n",
              "  </svg>\n",
              "      </button>\n",
              "      \n",
              "  <style>\n",
              "    .colab-df-container {\n",
              "      display:flex;\n",
              "      flex-wrap:wrap;\n",
              "      gap: 12px;\n",
              "    }\n",
              "\n",
              "    .colab-df-convert {\n",
              "      background-color: #E8F0FE;\n",
              "      border: none;\n",
              "      border-radius: 50%;\n",
              "      cursor: pointer;\n",
              "      display: none;\n",
              "      fill: #1967D2;\n",
              "      height: 32px;\n",
              "      padding: 0 0 0 0;\n",
              "      width: 32px;\n",
              "    }\n",
              "\n",
              "    .colab-df-convert:hover {\n",
              "      background-color: #E2EBFA;\n",
              "      box-shadow: 0px 1px 2px rgba(60, 64, 67, 0.3), 0px 1px 3px 1px rgba(60, 64, 67, 0.15);\n",
              "      fill: #174EA6;\n",
              "    }\n",
              "\n",
              "    [theme=dark] .colab-df-convert {\n",
              "      background-color: #3B4455;\n",
              "      fill: #D2E3FC;\n",
              "    }\n",
              "\n",
              "    [theme=dark] .colab-df-convert:hover {\n",
              "      background-color: #434B5C;\n",
              "      box-shadow: 0px 1px 3px 1px rgba(0, 0, 0, 0.15);\n",
              "      filter: drop-shadow(0px 1px 2px rgba(0, 0, 0, 0.3));\n",
              "      fill: #FFFFFF;\n",
              "    }\n",
              "  </style>\n",
              "\n",
              "      <script>\n",
              "        const buttonEl =\n",
              "          document.querySelector('#df-1da49eff-0148-4a55-bc9f-cac1b2df44fb button.colab-df-convert');\n",
              "        buttonEl.style.display =\n",
              "          google.colab.kernel.accessAllowed ? 'block' : 'none';\n",
              "\n",
              "        async function convertToInteractive(key) {\n",
              "          const element = document.querySelector('#df-1da49eff-0148-4a55-bc9f-cac1b2df44fb');\n",
              "          const dataTable =\n",
              "            await google.colab.kernel.invokeFunction('convertToInteractive',\n",
              "                                                     [key], {});\n",
              "          if (!dataTable) return;\n",
              "\n",
              "          const docLinkHtml = 'Like what you see? Visit the ' +\n",
              "            '<a target=\"_blank\" href=https://colab.research.google.com/notebooks/data_table.ipynb>data table notebook</a>'\n",
              "            + ' to learn more about interactive tables.';\n",
              "          element.innerHTML = '';\n",
              "          dataTable['output_type'] = 'display_data';\n",
              "          await google.colab.output.renderOutput(dataTable, element);\n",
              "          const docLink = document.createElement('div');\n",
              "          docLink.innerHTML = docLinkHtml;\n",
              "          element.appendChild(docLink);\n",
              "        }\n",
              "      </script>\n",
              "    </div>\n",
              "  </div>\n",
              "  "
            ]
          },
          "metadata": {},
          "execution_count": 67
        }
      ]
    },
    {
      "cell_type": "code",
      "source": [
        "#shape of datasets\n",
        "df.shape"
      ],
      "metadata": {
        "colab": {
          "base_uri": "https://localhost:8080/"
        },
        "id": "_l8eP2-plAWS",
        "outputId": "708e0637-5e21-406d-f1fc-ce63a6ab3484"
      },
      "execution_count": null,
      "outputs": [
        {
          "output_type": "execute_result",
          "data": {
            "text/plain": [
              "(40249, 9)"
            ]
          },
          "metadata": {},
          "execution_count": 68
        }
      ]
    },
    {
      "cell_type": "code",
      "source": [
        ""
      ],
      "metadata": {
        "id": "PhYHzmQqlxvG"
      },
      "execution_count": null,
      "outputs": []
    },
    {
      "cell_type": "code",
      "source": [
        "#check nullbale values\n",
        "df.isnull().sum()"
      ],
      "metadata": {
        "colab": {
          "base_uri": "https://localhost:8080/"
        },
        "id": "pTu3qBtVlxxO",
        "outputId": "021d5e12-9216-4039-ff59-51505b474cdb"
      },
      "execution_count": null,
      "outputs": [
        {
          "output_type": "execute_result",
          "data": {
            "text/plain": [
              "Unnamed: 0          0\n",
              "name            32906\n",
              "price               0\n",
              "marque              0\n",
              "modele              0\n",
              "Transmission        0\n",
              "Carburant           0\n",
              "Annee               0\n",
              "Kilométrage         0\n",
              "dtype: int64"
            ]
          },
          "metadata": {},
          "execution_count": 69
        }
      ]
    },
    {
      "cell_type": "code",
      "source": [
        "#type of features\n",
        "df.info()"
      ],
      "metadata": {
        "colab": {
          "base_uri": "https://localhost:8080/"
        },
        "id": "JmX5_-h0lxzj",
        "outputId": "2969b9df-127b-4a5c-fa2e-f25028f15b11"
      },
      "execution_count": null,
      "outputs": [
        {
          "output_type": "stream",
          "name": "stdout",
          "text": [
            "<class 'pandas.core.frame.DataFrame'>\n",
            "RangeIndex: 40249 entries, 0 to 40248\n",
            "Data columns (total 9 columns):\n",
            " #   Column        Non-Null Count  Dtype  \n",
            "---  ------        --------------  -----  \n",
            " 0   Unnamed: 0    40249 non-null  int64  \n",
            " 1   name          7343 non-null   object \n",
            " 2   price         40249 non-null  float64\n",
            " 3   marque        40249 non-null  object \n",
            " 4   modele        40249 non-null  object \n",
            " 5   Transmission  40249 non-null  object \n",
            " 6   Carburant     40249 non-null  object \n",
            " 7   Annee         40249 non-null  float64\n",
            " 8   Kilométrage   40249 non-null  float64\n",
            "dtypes: float64(3), int64(1), object(5)\n",
            "memory usage: 2.8+ MB\n"
          ]
        }
      ]
    },
    {
      "cell_type": "code",
      "source": [
        "#change type of columns\n",
        "df['name'] = df['name'].astype(\"string\")\n",
        "df['price'] = df['price'].astype(float)\n",
        "df['marque'] = df['marque'].astype(\"string\")\n",
        "df['modele'] = df['modele'].astype(\"string\")\n",
        "df['Transmission'] = df['Transmission'].astype(\"string\")\n",
        "df['Carburant'] = df['Carburant'].astype(\"string\")\n",
        "df['Annee'] = df['Annee'].astype(int)\n",
        "df['Kilométrage'] = df['Kilométrage'].astype(int)\n",
        "df.info()"
      ],
      "metadata": {
        "colab": {
          "base_uri": "https://localhost:8080/"
        },
        "id": "2bXB5c3Qlx3D",
        "outputId": "6dea101a-0001-40b1-f3cd-390a82620b8a"
      },
      "execution_count": null,
      "outputs": [
        {
          "output_type": "stream",
          "name": "stdout",
          "text": [
            "<class 'pandas.core.frame.DataFrame'>\n",
            "RangeIndex: 40249 entries, 0 to 40248\n",
            "Data columns (total 9 columns):\n",
            " #   Column        Non-Null Count  Dtype  \n",
            "---  ------        --------------  -----  \n",
            " 0   Unnamed: 0    40249 non-null  int64  \n",
            " 1   name          7343 non-null   string \n",
            " 2   price         40249 non-null  float64\n",
            " 3   marque        40249 non-null  string \n",
            " 4   modele        40249 non-null  string \n",
            " 5   Transmission  40249 non-null  string \n",
            " 6   Carburant     40249 non-null  string \n",
            " 7   Annee         40249 non-null  int64  \n",
            " 8   Kilométrage   40249 non-null  int64  \n",
            "dtypes: float64(1), int64(3), string(5)\n",
            "memory usage: 2.8 MB\n"
          ]
        }
      ]
    },
    {
      "cell_type": "code",
      "source": [
        "df.drop('Unnamed: 0'  , axis='columns', inplace=True)"
      ],
      "metadata": {
        "id": "jglg1423lx5o"
      },
      "execution_count": null,
      "outputs": []
    },
    {
      "cell_type": "markdown",
      "source": [
        "###II.Visualisation"
      ],
      "metadata": {
        "id": "e4Lyb3TnmHvT"
      }
    },
    {
      "cell_type": "code",
      "source": [
        "df.describe()"
      ],
      "metadata": {
        "colab": {
          "base_uri": "https://localhost:8080/",
          "height": 300
        },
        "id": "yOXi0FTxlx-i",
        "outputId": "181e3446-83af-4786-9e3b-d91db0b05995"
      },
      "execution_count": null,
      "outputs": [
        {
          "output_type": "execute_result",
          "data": {
            "text/plain": [
              "              price         Annee   Kilométrage\n",
              "count  4.024900e+04  40249.000000  4.024900e+04\n",
              "mean   2.608897e+09   1554.033566  2.514150e+11\n",
              "std    5.233787e+11    859.771437  4.984764e+13\n",
              "min    0.000000e+00      0.000000 -2.700000e+05\n",
              "25%    6.500000e+03   1990.000000  0.000000e+00\n",
              "50%    2.300000e+04   2008.000000  5.500000e+04\n",
              "75%    4.250000e+04   2015.000000  1.600000e+05\n",
              "max    1.050010e+14   9999.000000  1.000000e+16"
            ],
            "text/html": [
              "\n",
              "  <div id=\"df-30833e1c-a708-43cc-9eec-970271d2f380\">\n",
              "    <div class=\"colab-df-container\">\n",
              "      <div>\n",
              "<style scoped>\n",
              "    .dataframe tbody tr th:only-of-type {\n",
              "        vertical-align: middle;\n",
              "    }\n",
              "\n",
              "    .dataframe tbody tr th {\n",
              "        vertical-align: top;\n",
              "    }\n",
              "\n",
              "    .dataframe thead th {\n",
              "        text-align: right;\n",
              "    }\n",
              "</style>\n",
              "<table border=\"1\" class=\"dataframe\">\n",
              "  <thead>\n",
              "    <tr style=\"text-align: right;\">\n",
              "      <th></th>\n",
              "      <th>price</th>\n",
              "      <th>Annee</th>\n",
              "      <th>Kilométrage</th>\n",
              "    </tr>\n",
              "  </thead>\n",
              "  <tbody>\n",
              "    <tr>\n",
              "      <th>count</th>\n",
              "      <td>4.024900e+04</td>\n",
              "      <td>40249.000000</td>\n",
              "      <td>4.024900e+04</td>\n",
              "    </tr>\n",
              "    <tr>\n",
              "      <th>mean</th>\n",
              "      <td>2.608897e+09</td>\n",
              "      <td>1554.033566</td>\n",
              "      <td>2.514150e+11</td>\n",
              "    </tr>\n",
              "    <tr>\n",
              "      <th>std</th>\n",
              "      <td>5.233787e+11</td>\n",
              "      <td>859.771437</td>\n",
              "      <td>4.984764e+13</td>\n",
              "    </tr>\n",
              "    <tr>\n",
              "      <th>min</th>\n",
              "      <td>0.000000e+00</td>\n",
              "      <td>0.000000</td>\n",
              "      <td>-2.700000e+05</td>\n",
              "    </tr>\n",
              "    <tr>\n",
              "      <th>25%</th>\n",
              "      <td>6.500000e+03</td>\n",
              "      <td>1990.000000</td>\n",
              "      <td>0.000000e+00</td>\n",
              "    </tr>\n",
              "    <tr>\n",
              "      <th>50%</th>\n",
              "      <td>2.300000e+04</td>\n",
              "      <td>2008.000000</td>\n",
              "      <td>5.500000e+04</td>\n",
              "    </tr>\n",
              "    <tr>\n",
              "      <th>75%</th>\n",
              "      <td>4.250000e+04</td>\n",
              "      <td>2015.000000</td>\n",
              "      <td>1.600000e+05</td>\n",
              "    </tr>\n",
              "    <tr>\n",
              "      <th>max</th>\n",
              "      <td>1.050010e+14</td>\n",
              "      <td>9999.000000</td>\n",
              "      <td>1.000000e+16</td>\n",
              "    </tr>\n",
              "  </tbody>\n",
              "</table>\n",
              "</div>\n",
              "      <button class=\"colab-df-convert\" onclick=\"convertToInteractive('df-30833e1c-a708-43cc-9eec-970271d2f380')\"\n",
              "              title=\"Convert this dataframe to an interactive table.\"\n",
              "              style=\"display:none;\">\n",
              "        \n",
              "  <svg xmlns=\"http://www.w3.org/2000/svg\" height=\"24px\"viewBox=\"0 0 24 24\"\n",
              "       width=\"24px\">\n",
              "    <path d=\"M0 0h24v24H0V0z\" fill=\"none\"/>\n",
              "    <path d=\"M18.56 5.44l.94 2.06.94-2.06 2.06-.94-2.06-.94-.94-2.06-.94 2.06-2.06.94zm-11 1L8.5 8.5l.94-2.06 2.06-.94-2.06-.94L8.5 2.5l-.94 2.06-2.06.94zm10 10l.94 2.06.94-2.06 2.06-.94-2.06-.94-.94-2.06-.94 2.06-2.06.94z\"/><path d=\"M17.41 7.96l-1.37-1.37c-.4-.4-.92-.59-1.43-.59-.52 0-1.04.2-1.43.59L10.3 9.45l-7.72 7.72c-.78.78-.78 2.05 0 2.83L4 21.41c.39.39.9.59 1.41.59.51 0 1.02-.2 1.41-.59l7.78-7.78 2.81-2.81c.8-.78.8-2.07 0-2.86zM5.41 20L4 18.59l7.72-7.72 1.47 1.35L5.41 20z\"/>\n",
              "  </svg>\n",
              "      </button>\n",
              "      \n",
              "  <style>\n",
              "    .colab-df-container {\n",
              "      display:flex;\n",
              "      flex-wrap:wrap;\n",
              "      gap: 12px;\n",
              "    }\n",
              "\n",
              "    .colab-df-convert {\n",
              "      background-color: #E8F0FE;\n",
              "      border: none;\n",
              "      border-radius: 50%;\n",
              "      cursor: pointer;\n",
              "      display: none;\n",
              "      fill: #1967D2;\n",
              "      height: 32px;\n",
              "      padding: 0 0 0 0;\n",
              "      width: 32px;\n",
              "    }\n",
              "\n",
              "    .colab-df-convert:hover {\n",
              "      background-color: #E2EBFA;\n",
              "      box-shadow: 0px 1px 2px rgba(60, 64, 67, 0.3), 0px 1px 3px 1px rgba(60, 64, 67, 0.15);\n",
              "      fill: #174EA6;\n",
              "    }\n",
              "\n",
              "    [theme=dark] .colab-df-convert {\n",
              "      background-color: #3B4455;\n",
              "      fill: #D2E3FC;\n",
              "    }\n",
              "\n",
              "    [theme=dark] .colab-df-convert:hover {\n",
              "      background-color: #434B5C;\n",
              "      box-shadow: 0px 1px 3px 1px rgba(0, 0, 0, 0.15);\n",
              "      filter: drop-shadow(0px 1px 2px rgba(0, 0, 0, 0.3));\n",
              "      fill: #FFFFFF;\n",
              "    }\n",
              "  </style>\n",
              "\n",
              "      <script>\n",
              "        const buttonEl =\n",
              "          document.querySelector('#df-30833e1c-a708-43cc-9eec-970271d2f380 button.colab-df-convert');\n",
              "        buttonEl.style.display =\n",
              "          google.colab.kernel.accessAllowed ? 'block' : 'none';\n",
              "\n",
              "        async function convertToInteractive(key) {\n",
              "          const element = document.querySelector('#df-30833e1c-a708-43cc-9eec-970271d2f380');\n",
              "          const dataTable =\n",
              "            await google.colab.kernel.invokeFunction('convertToInteractive',\n",
              "                                                     [key], {});\n",
              "          if (!dataTable) return;\n",
              "\n",
              "          const docLinkHtml = 'Like what you see? Visit the ' +\n",
              "            '<a target=\"_blank\" href=https://colab.research.google.com/notebooks/data_table.ipynb>data table notebook</a>'\n",
              "            + ' to learn more about interactive tables.';\n",
              "          element.innerHTML = '';\n",
              "          dataTable['output_type'] = 'display_data';\n",
              "          await google.colab.output.renderOutput(dataTable, element);\n",
              "          const docLink = document.createElement('div');\n",
              "          docLink.innerHTML = docLinkHtml;\n",
              "          element.appendChild(docLink);\n",
              "        }\n",
              "      </script>\n",
              "    </div>\n",
              "  </div>\n",
              "  "
            ]
          },
          "metadata": {},
          "execution_count": 73
        }
      ]
    },
    {
      "cell_type": "code",
      "source": [
        "#understanding of categorical values\n",
        "df['marque'].value_counts()"
      ],
      "metadata": {
        "colab": {
          "base_uri": "https://localhost:8080/"
        },
        "id": "FyxKmxJMlyA-",
        "outputId": "414e60c4-46c9-4516-d11c-c0dfdb22bc8d"
      },
      "execution_count": null,
      "outputs": [
        {
          "output_type": "execute_result",
          "data": {
            "text/plain": [
              "Peugeot       4811\n",
              "Volkswagen    4616\n",
              "Renault       3574\n",
              "Citroen       2874\n",
              "Fiat          1967\n",
              "              ... \n",
              "Artega           1\n",
              "Landwind         1\n",
              "2020             1\n",
              "Austin           1\n",
              "Changhe          1\n",
              "Name: marque, Length: 166, dtype: Int64"
            ]
          },
          "metadata": {},
          "execution_count": 74
        }
      ]
    },
    {
      "cell_type": "code",
      "source": [
        "df['modele'].value_counts()"
      ],
      "metadata": {
        "colab": {
          "base_uri": "https://localhost:8080/"
        },
        "id": "ua6Fa4BglyDJ",
        "outputId": "1b8070bb-d2d2-457b-a693-e32639b97563"
      },
      "execution_count": null,
      "outputs": [
        {
          "output_type": "execute_result",
          "data": {
            "text/plain": [
              "Clio       1318\n",
              "Polo       1262\n",
              "Golf        690\n",
              "Passat      681\n",
              "Partner     661\n",
              "           ... \n",
              "605           1\n",
              "Colt          1\n",
              "CC            1\n",
              "Croma         1\n",
              "Ideal         1\n",
              "Name: modele, Length: 1319, dtype: Int64"
            ]
          },
          "metadata": {},
          "execution_count": 75
        }
      ]
    },
    {
      "cell_type": "code",
      "source": [
        "df['Transmission'].value_counts()"
      ],
      "metadata": {
        "colab": {
          "base_uri": "https://localhost:8080/"
        },
        "id": "zu2E67MFlyFm",
        "outputId": "fb4d9c8e-1224-4cce-ffe1-5f67eea8ac83"
      },
      "execution_count": null,
      "outputs": [
        {
          "output_type": "execute_result",
          "data": {
            "text/plain": [
              "Manuelle       30921\n",
              "Automatique     6164\n",
              "0               3164\n",
              "Name: Transmission, dtype: Int64"
            ]
          },
          "metadata": {},
          "execution_count": 76
        }
      ]
    },
    {
      "cell_type": "code",
      "source": [
        "df['Carburant'].value_counts()"
      ],
      "metadata": {
        "colab": {
          "base_uri": "https://localhost:8080/"
        },
        "id": "Z8hdz6vylyH3",
        "outputId": "e74cf929-ab99-46fe-8d7b-9963833e048e"
      },
      "execution_count": null,
      "outputs": [
        {
          "output_type": "execute_result",
          "data": {
            "text/plain": [
              "Essence    24347\n",
              "Diesel     12980\n",
              "0           2922\n",
              "Name: Carburant, dtype: Int64"
            ]
          },
          "metadata": {},
          "execution_count": 77
        }
      ]
    },
    {
      "cell_type": "markdown",
      "source": [
        "there are 40249 cars to sell\n",
        "\n",
        "the average value 2,608,897 DT\n",
        "\n",
        "Carburant are Essence and Diesel\n",
        "\n",
        "Most 5 brands are Peugot , Volswagen , Renault , Reanult , Citroen , Fiat"
      ],
      "metadata": {
        "id": "NUhpLDGzmi6f"
      }
    },
    {
      "cell_type": "markdown",
      "source": [
        "### III.Data preparation"
      ],
      "metadata": {
        "id": "TZ9d7mqfmrkh"
      }
    },
    {
      "cell_type": "code",
      "source": [
        "df"
      ],
      "metadata": {
        "colab": {
          "base_uri": "https://localhost:8080/",
          "height": 423
        },
        "id": "vmaZtsTzlyLV",
        "outputId": "650e5e7d-48a8-4e95-c1de-b3cac3bb2415"
      },
      "execution_count": null,
      "outputs": [
        {
          "output_type": "execute_result",
          "data": {
            "text/plain": [
              "                                       name     price         marque  \\\n",
              "0                    Geely GC6 1.5L essence   38500.0          Geely   \n",
              "1                           Toyota Prado VX  105000.0         Toyota   \n",
              "2                              BMW X3 2.0 D   58000.0            BMW   \n",
              "3      Mercedes-Benz Classe E coupé KIT AMG  217000.0  Mercedes-Benz   \n",
              "4                    Nissan Qashqai TEKNA +   79000.0         Nissan   \n",
              "...                                     ...       ...            ...   \n",
              "40244                                  <NA>   11300.0        Renault   \n",
              "40245                                  <NA>       0.0            BMW   \n",
              "40246                                  <NA>   30000.0        Citroen   \n",
              "40247                                  <NA>       0.0        Citroen   \n",
              "40248                                  <NA>   10500.0           Fiat   \n",
              "\n",
              "                       modele Transmission Carburant  Annee  Kilométrage  \n",
              "0            GC6 1.5L essence     Manuelle   Essence   2020        19800  \n",
              "1                    Prado VX     Manuelle    Diesel   2008       154000  \n",
              "2                    X3 2.0 D     Manuelle    Diesel   2006       125000  \n",
              "3      Classe E coupé KIT AMG  Automatique   Essence   2017       102000  \n",
              "4             Qashqai TEKNA +  Automatique   Essence   2017       115000  \n",
              "...                       ...          ...       ...    ...          ...  \n",
              "40244                    Clio     Manuelle   Essence   1993       295000  \n",
              "40245                 Serie 3     Manuelle   Essence   2007          184  \n",
              "40246                      C4     Manuelle   Essence   2014       180000  \n",
              "40247                      C5     Manuelle    Diesel   2009            0  \n",
              "40248                   Punto     Manuelle   Essence   2000       208470  \n",
              "\n",
              "[40249 rows x 8 columns]"
            ],
            "text/html": [
              "\n",
              "  <div id=\"df-26ca1b31-a68f-4a71-8a9f-aa88d003f60a\">\n",
              "    <div class=\"colab-df-container\">\n",
              "      <div>\n",
              "<style scoped>\n",
              "    .dataframe tbody tr th:only-of-type {\n",
              "        vertical-align: middle;\n",
              "    }\n",
              "\n",
              "    .dataframe tbody tr th {\n",
              "        vertical-align: top;\n",
              "    }\n",
              "\n",
              "    .dataframe thead th {\n",
              "        text-align: right;\n",
              "    }\n",
              "</style>\n",
              "<table border=\"1\" class=\"dataframe\">\n",
              "  <thead>\n",
              "    <tr style=\"text-align: right;\">\n",
              "      <th></th>\n",
              "      <th>name</th>\n",
              "      <th>price</th>\n",
              "      <th>marque</th>\n",
              "      <th>modele</th>\n",
              "      <th>Transmission</th>\n",
              "      <th>Carburant</th>\n",
              "      <th>Annee</th>\n",
              "      <th>Kilométrage</th>\n",
              "    </tr>\n",
              "  </thead>\n",
              "  <tbody>\n",
              "    <tr>\n",
              "      <th>0</th>\n",
              "      <td>Geely GC6 1.5L essence</td>\n",
              "      <td>38500.0</td>\n",
              "      <td>Geely</td>\n",
              "      <td>GC6 1.5L essence</td>\n",
              "      <td>Manuelle</td>\n",
              "      <td>Essence</td>\n",
              "      <td>2020</td>\n",
              "      <td>19800</td>\n",
              "    </tr>\n",
              "    <tr>\n",
              "      <th>1</th>\n",
              "      <td>Toyota Prado VX</td>\n",
              "      <td>105000.0</td>\n",
              "      <td>Toyota</td>\n",
              "      <td>Prado VX</td>\n",
              "      <td>Manuelle</td>\n",
              "      <td>Diesel</td>\n",
              "      <td>2008</td>\n",
              "      <td>154000</td>\n",
              "    </tr>\n",
              "    <tr>\n",
              "      <th>2</th>\n",
              "      <td>BMW X3 2.0 D</td>\n",
              "      <td>58000.0</td>\n",
              "      <td>BMW</td>\n",
              "      <td>X3 2.0 D</td>\n",
              "      <td>Manuelle</td>\n",
              "      <td>Diesel</td>\n",
              "      <td>2006</td>\n",
              "      <td>125000</td>\n",
              "    </tr>\n",
              "    <tr>\n",
              "      <th>3</th>\n",
              "      <td>Mercedes-Benz Classe E coupé KIT AMG</td>\n",
              "      <td>217000.0</td>\n",
              "      <td>Mercedes-Benz</td>\n",
              "      <td>Classe E coupé KIT AMG</td>\n",
              "      <td>Automatique</td>\n",
              "      <td>Essence</td>\n",
              "      <td>2017</td>\n",
              "      <td>102000</td>\n",
              "    </tr>\n",
              "    <tr>\n",
              "      <th>4</th>\n",
              "      <td>Nissan Qashqai TEKNA +</td>\n",
              "      <td>79000.0</td>\n",
              "      <td>Nissan</td>\n",
              "      <td>Qashqai TEKNA +</td>\n",
              "      <td>Automatique</td>\n",
              "      <td>Essence</td>\n",
              "      <td>2017</td>\n",
              "      <td>115000</td>\n",
              "    </tr>\n",
              "    <tr>\n",
              "      <th>...</th>\n",
              "      <td>...</td>\n",
              "      <td>...</td>\n",
              "      <td>...</td>\n",
              "      <td>...</td>\n",
              "      <td>...</td>\n",
              "      <td>...</td>\n",
              "      <td>...</td>\n",
              "      <td>...</td>\n",
              "    </tr>\n",
              "    <tr>\n",
              "      <th>40244</th>\n",
              "      <td>&lt;NA&gt;</td>\n",
              "      <td>11300.0</td>\n",
              "      <td>Renault</td>\n",
              "      <td>Clio</td>\n",
              "      <td>Manuelle</td>\n",
              "      <td>Essence</td>\n",
              "      <td>1993</td>\n",
              "      <td>295000</td>\n",
              "    </tr>\n",
              "    <tr>\n",
              "      <th>40245</th>\n",
              "      <td>&lt;NA&gt;</td>\n",
              "      <td>0.0</td>\n",
              "      <td>BMW</td>\n",
              "      <td>Serie 3</td>\n",
              "      <td>Manuelle</td>\n",
              "      <td>Essence</td>\n",
              "      <td>2007</td>\n",
              "      <td>184</td>\n",
              "    </tr>\n",
              "    <tr>\n",
              "      <th>40246</th>\n",
              "      <td>&lt;NA&gt;</td>\n",
              "      <td>30000.0</td>\n",
              "      <td>Citroen</td>\n",
              "      <td>C4</td>\n",
              "      <td>Manuelle</td>\n",
              "      <td>Essence</td>\n",
              "      <td>2014</td>\n",
              "      <td>180000</td>\n",
              "    </tr>\n",
              "    <tr>\n",
              "      <th>40247</th>\n",
              "      <td>&lt;NA&gt;</td>\n",
              "      <td>0.0</td>\n",
              "      <td>Citroen</td>\n",
              "      <td>C5</td>\n",
              "      <td>Manuelle</td>\n",
              "      <td>Diesel</td>\n",
              "      <td>2009</td>\n",
              "      <td>0</td>\n",
              "    </tr>\n",
              "    <tr>\n",
              "      <th>40248</th>\n",
              "      <td>&lt;NA&gt;</td>\n",
              "      <td>10500.0</td>\n",
              "      <td>Fiat</td>\n",
              "      <td>Punto</td>\n",
              "      <td>Manuelle</td>\n",
              "      <td>Essence</td>\n",
              "      <td>2000</td>\n",
              "      <td>208470</td>\n",
              "    </tr>\n",
              "  </tbody>\n",
              "</table>\n",
              "<p>40249 rows × 8 columns</p>\n",
              "</div>\n",
              "      <button class=\"colab-df-convert\" onclick=\"convertToInteractive('df-26ca1b31-a68f-4a71-8a9f-aa88d003f60a')\"\n",
              "              title=\"Convert this dataframe to an interactive table.\"\n",
              "              style=\"display:none;\">\n",
              "        \n",
              "  <svg xmlns=\"http://www.w3.org/2000/svg\" height=\"24px\"viewBox=\"0 0 24 24\"\n",
              "       width=\"24px\">\n",
              "    <path d=\"M0 0h24v24H0V0z\" fill=\"none\"/>\n",
              "    <path d=\"M18.56 5.44l.94 2.06.94-2.06 2.06-.94-2.06-.94-.94-2.06-.94 2.06-2.06.94zm-11 1L8.5 8.5l.94-2.06 2.06-.94-2.06-.94L8.5 2.5l-.94 2.06-2.06.94zm10 10l.94 2.06.94-2.06 2.06-.94-2.06-.94-.94-2.06-.94 2.06-2.06.94z\"/><path d=\"M17.41 7.96l-1.37-1.37c-.4-.4-.92-.59-1.43-.59-.52 0-1.04.2-1.43.59L10.3 9.45l-7.72 7.72c-.78.78-.78 2.05 0 2.83L4 21.41c.39.39.9.59 1.41.59.51 0 1.02-.2 1.41-.59l7.78-7.78 2.81-2.81c.8-.78.8-2.07 0-2.86zM5.41 20L4 18.59l7.72-7.72 1.47 1.35L5.41 20z\"/>\n",
              "  </svg>\n",
              "      </button>\n",
              "      \n",
              "  <style>\n",
              "    .colab-df-container {\n",
              "      display:flex;\n",
              "      flex-wrap:wrap;\n",
              "      gap: 12px;\n",
              "    }\n",
              "\n",
              "    .colab-df-convert {\n",
              "      background-color: #E8F0FE;\n",
              "      border: none;\n",
              "      border-radius: 50%;\n",
              "      cursor: pointer;\n",
              "      display: none;\n",
              "      fill: #1967D2;\n",
              "      height: 32px;\n",
              "      padding: 0 0 0 0;\n",
              "      width: 32px;\n",
              "    }\n",
              "\n",
              "    .colab-df-convert:hover {\n",
              "      background-color: #E2EBFA;\n",
              "      box-shadow: 0px 1px 2px rgba(60, 64, 67, 0.3), 0px 1px 3px 1px rgba(60, 64, 67, 0.15);\n",
              "      fill: #174EA6;\n",
              "    }\n",
              "\n",
              "    [theme=dark] .colab-df-convert {\n",
              "      background-color: #3B4455;\n",
              "      fill: #D2E3FC;\n",
              "    }\n",
              "\n",
              "    [theme=dark] .colab-df-convert:hover {\n",
              "      background-color: #434B5C;\n",
              "      box-shadow: 0px 1px 3px 1px rgba(0, 0, 0, 0.15);\n",
              "      filter: drop-shadow(0px 1px 2px rgba(0, 0, 0, 0.3));\n",
              "      fill: #FFFFFF;\n",
              "    }\n",
              "  </style>\n",
              "\n",
              "      <script>\n",
              "        const buttonEl =\n",
              "          document.querySelector('#df-26ca1b31-a68f-4a71-8a9f-aa88d003f60a button.colab-df-convert');\n",
              "        buttonEl.style.display =\n",
              "          google.colab.kernel.accessAllowed ? 'block' : 'none';\n",
              "\n",
              "        async function convertToInteractive(key) {\n",
              "          const element = document.querySelector('#df-26ca1b31-a68f-4a71-8a9f-aa88d003f60a');\n",
              "          const dataTable =\n",
              "            await google.colab.kernel.invokeFunction('convertToInteractive',\n",
              "                                                     [key], {});\n",
              "          if (!dataTable) return;\n",
              "\n",
              "          const docLinkHtml = 'Like what you see? Visit the ' +\n",
              "            '<a target=\"_blank\" href=https://colab.research.google.com/notebooks/data_table.ipynb>data table notebook</a>'\n",
              "            + ' to learn more about interactive tables.';\n",
              "          element.innerHTML = '';\n",
              "          dataTable['output_type'] = 'display_data';\n",
              "          await google.colab.output.renderOutput(dataTable, element);\n",
              "          const docLink = document.createElement('div');\n",
              "          docLink.innerHTML = docLinkHtml;\n",
              "          element.appendChild(docLink);\n",
              "        }\n",
              "      </script>\n",
              "    </div>\n",
              "  </div>\n",
              "  "
            ]
          },
          "metadata": {},
          "execution_count": 78
        }
      ]
    },
    {
      "cell_type": "markdown",
      "source": [
        "Our data samples are name (independent and identically distributed) then we can remove the sample name"
      ],
      "metadata": {
        "id": "kFCyo0SOm1N6"
      }
    },
    {
      "cell_type": "code",
      "source": [
        "df.drop([\"name\"], axis=1, inplace=True)"
      ],
      "metadata": {
        "id": "bEA8qWaSlAZj"
      },
      "execution_count": null,
      "outputs": []
    },
    {
      "cell_type": "code",
      "source": [
        "df.drop_duplicates(keep='first' , inplace = True , ignore_index=True )"
      ],
      "metadata": {
        "id": "DgBEQEK-nBLG"
      },
      "execution_count": null,
      "outputs": []
    },
    {
      "cell_type": "markdown",
      "source": [
        "##Marque"
      ],
      "metadata": {
        "id": "7DxmUJhnnIbC"
      }
    },
    {
      "cell_type": "code",
      "source": [
        "for i in df.index:\n",
        "    df.loc[i,'marque']=str(df['marque'][i]).replace('\\xa0','').replace('\\u202f','').replace(' ','')"
      ],
      "metadata": {
        "id": "6LKplMELnBNl"
      },
      "execution_count": null,
      "outputs": []
    },
    {
      "cell_type": "code",
      "source": [
        "df['marque'].value_counts().to_csv('marque.csv')"
      ],
      "metadata": {
        "id": "A6is44-QnBPc"
      },
      "execution_count": null,
      "outputs": []
    },
    {
      "cell_type": "code",
      "source": [
        "df['marque'].value_counts().count()"
      ],
      "metadata": {
        "colab": {
          "base_uri": "https://localhost:8080/"
        },
        "id": "rvrKsiyLnBSC",
        "outputId": "59abb8a0-d888-4f32-a9cf-09b6bfae13bb"
      },
      "execution_count": null,
      "outputs": [
        {
          "output_type": "execute_result",
          "data": {
            "text/plain": [
              "120"
            ]
          },
          "metadata": {},
          "execution_count": 83
        }
      ]
    },
    {
      "cell_type": "markdown",
      "source": [
        "we found out that we have 78 brand so we are going to work on 20 main brands which are :\n",
        "*  Volkswagen\n",
        "*  Peugeot\n",
        "*  Renault\n",
        "*  Citroen\n",
        "*  Fiat\n",
        "*  Ford\n",
        "*  Mercedes-Benz\n",
        "*  BMW\n",
        "*  Opel\n",
        "*  Audi\n",
        "*  Nissan\n",
        "*  Toyota\n",
        "*  Isuzu\n",
        "*  Huyndai\n",
        "*  Seat\n",
        "*  Mercedes\n",
        "*  Chevrolet\n",
        "*  Dacia\n",
        "*  Mazda\n",
        "\n"
      ],
      "metadata": {
        "id": "ADR3M2yFqaZB"
      }
    },
    {
      "cell_type": "code",
      "source": [
        "brands_20 = []\n",
        "for i in df.index:\n",
        "  match =  re.search('Volkswagen|Peugeot|Renault|Citroen|Fiat|Ford|Mercedes-Benz|Kia|BMW|Opel|Audi|Nissan|Toyota|Isuzu|Hyunda|Seat|Mercedes|Chevrolet|Dacia|Mazda', str(df['marque'][i]))\n",
        "  if match :\n",
        "   brands_20.append(df.loc[i])\n",
        "\n",
        "df_brands_20 = pd.DataFrame(brands_20)\n",
        "df_brands_20"
      ],
      "metadata": {
        "colab": {
          "base_uri": "https://localhost:8080/",
          "height": 423
        },
        "id": "5fsgHiVqnBXs",
        "outputId": "be8dd2d6-3d18-40c8-8be4-71a767914674"
      },
      "execution_count": null,
      "outputs": [
        {
          "output_type": "execute_result",
          "data": {
            "text/plain": [
              "          price         marque                  modele Transmission Carburant  \\\n",
              "1      105000.0         Toyota                Prado VX     Manuelle    Diesel   \n",
              "2       58000.0            BMW                X3 2.0 D     Manuelle    Diesel   \n",
              "3      217000.0  Mercedes-Benz  Classe E coupé KIT AMG  Automatique   Essence   \n",
              "4       79000.0         Nissan         Qashqai TEKNA +  Automatique   Essence   \n",
              "5       95500.0           Audi                 Q3 TFSI  Automatique   Essence   \n",
              "...         ...            ...                     ...          ...       ...   \n",
              "24933       0.0     Volkswagen                  Passat     Manuelle    Diesel   \n",
              "24934   47000.0     Volkswagen               Golf Plus  Automatique         0   \n",
              "24935       0.0        Renault                    Clio     Manuelle   Essence   \n",
              "24936       0.0            BMW                 Serie 3     Manuelle   Essence   \n",
              "24937       0.0        Citroen                      C5     Manuelle    Diesel   \n",
              "\n",
              "       Annee  Kilométrage  \n",
              "1       2008       154000  \n",
              "2       2006       125000  \n",
              "3       2017       102000  \n",
              "4       2017       115000  \n",
              "5       2017       100500  \n",
              "...      ...          ...  \n",
              "24933   2009          270  \n",
              "24934   2013          280  \n",
              "24935   1997       300000  \n",
              "24936   2007          184  \n",
              "24937   2009            0  \n",
              "\n",
              "[22504 rows x 7 columns]"
            ],
            "text/html": [
              "\n",
              "  <div id=\"df-de122614-c547-451d-922d-4f3797f66864\">\n",
              "    <div class=\"colab-df-container\">\n",
              "      <div>\n",
              "<style scoped>\n",
              "    .dataframe tbody tr th:only-of-type {\n",
              "        vertical-align: middle;\n",
              "    }\n",
              "\n",
              "    .dataframe tbody tr th {\n",
              "        vertical-align: top;\n",
              "    }\n",
              "\n",
              "    .dataframe thead th {\n",
              "        text-align: right;\n",
              "    }\n",
              "</style>\n",
              "<table border=\"1\" class=\"dataframe\">\n",
              "  <thead>\n",
              "    <tr style=\"text-align: right;\">\n",
              "      <th></th>\n",
              "      <th>price</th>\n",
              "      <th>marque</th>\n",
              "      <th>modele</th>\n",
              "      <th>Transmission</th>\n",
              "      <th>Carburant</th>\n",
              "      <th>Annee</th>\n",
              "      <th>Kilométrage</th>\n",
              "    </tr>\n",
              "  </thead>\n",
              "  <tbody>\n",
              "    <tr>\n",
              "      <th>1</th>\n",
              "      <td>105000.0</td>\n",
              "      <td>Toyota</td>\n",
              "      <td>Prado VX</td>\n",
              "      <td>Manuelle</td>\n",
              "      <td>Diesel</td>\n",
              "      <td>2008</td>\n",
              "      <td>154000</td>\n",
              "    </tr>\n",
              "    <tr>\n",
              "      <th>2</th>\n",
              "      <td>58000.0</td>\n",
              "      <td>BMW</td>\n",
              "      <td>X3 2.0 D</td>\n",
              "      <td>Manuelle</td>\n",
              "      <td>Diesel</td>\n",
              "      <td>2006</td>\n",
              "      <td>125000</td>\n",
              "    </tr>\n",
              "    <tr>\n",
              "      <th>3</th>\n",
              "      <td>217000.0</td>\n",
              "      <td>Mercedes-Benz</td>\n",
              "      <td>Classe E coupé KIT AMG</td>\n",
              "      <td>Automatique</td>\n",
              "      <td>Essence</td>\n",
              "      <td>2017</td>\n",
              "      <td>102000</td>\n",
              "    </tr>\n",
              "    <tr>\n",
              "      <th>4</th>\n",
              "      <td>79000.0</td>\n",
              "      <td>Nissan</td>\n",
              "      <td>Qashqai TEKNA +</td>\n",
              "      <td>Automatique</td>\n",
              "      <td>Essence</td>\n",
              "      <td>2017</td>\n",
              "      <td>115000</td>\n",
              "    </tr>\n",
              "    <tr>\n",
              "      <th>5</th>\n",
              "      <td>95500.0</td>\n",
              "      <td>Audi</td>\n",
              "      <td>Q3 TFSI</td>\n",
              "      <td>Automatique</td>\n",
              "      <td>Essence</td>\n",
              "      <td>2017</td>\n",
              "      <td>100500</td>\n",
              "    </tr>\n",
              "    <tr>\n",
              "      <th>...</th>\n",
              "      <td>...</td>\n",
              "      <td>...</td>\n",
              "      <td>...</td>\n",
              "      <td>...</td>\n",
              "      <td>...</td>\n",
              "      <td>...</td>\n",
              "      <td>...</td>\n",
              "    </tr>\n",
              "    <tr>\n",
              "      <th>24933</th>\n",
              "      <td>0.0</td>\n",
              "      <td>Volkswagen</td>\n",
              "      <td>Passat</td>\n",
              "      <td>Manuelle</td>\n",
              "      <td>Diesel</td>\n",
              "      <td>2009</td>\n",
              "      <td>270</td>\n",
              "    </tr>\n",
              "    <tr>\n",
              "      <th>24934</th>\n",
              "      <td>47000.0</td>\n",
              "      <td>Volkswagen</td>\n",
              "      <td>Golf Plus</td>\n",
              "      <td>Automatique</td>\n",
              "      <td>0</td>\n",
              "      <td>2013</td>\n",
              "      <td>280</td>\n",
              "    </tr>\n",
              "    <tr>\n",
              "      <th>24935</th>\n",
              "      <td>0.0</td>\n",
              "      <td>Renault</td>\n",
              "      <td>Clio</td>\n",
              "      <td>Manuelle</td>\n",
              "      <td>Essence</td>\n",
              "      <td>1997</td>\n",
              "      <td>300000</td>\n",
              "    </tr>\n",
              "    <tr>\n",
              "      <th>24936</th>\n",
              "      <td>0.0</td>\n",
              "      <td>BMW</td>\n",
              "      <td>Serie 3</td>\n",
              "      <td>Manuelle</td>\n",
              "      <td>Essence</td>\n",
              "      <td>2007</td>\n",
              "      <td>184</td>\n",
              "    </tr>\n",
              "    <tr>\n",
              "      <th>24937</th>\n",
              "      <td>0.0</td>\n",
              "      <td>Citroen</td>\n",
              "      <td>C5</td>\n",
              "      <td>Manuelle</td>\n",
              "      <td>Diesel</td>\n",
              "      <td>2009</td>\n",
              "      <td>0</td>\n",
              "    </tr>\n",
              "  </tbody>\n",
              "</table>\n",
              "<p>22504 rows × 7 columns</p>\n",
              "</div>\n",
              "      <button class=\"colab-df-convert\" onclick=\"convertToInteractive('df-de122614-c547-451d-922d-4f3797f66864')\"\n",
              "              title=\"Convert this dataframe to an interactive table.\"\n",
              "              style=\"display:none;\">\n",
              "        \n",
              "  <svg xmlns=\"http://www.w3.org/2000/svg\" height=\"24px\"viewBox=\"0 0 24 24\"\n",
              "       width=\"24px\">\n",
              "    <path d=\"M0 0h24v24H0V0z\" fill=\"none\"/>\n",
              "    <path d=\"M18.56 5.44l.94 2.06.94-2.06 2.06-.94-2.06-.94-.94-2.06-.94 2.06-2.06.94zm-11 1L8.5 8.5l.94-2.06 2.06-.94-2.06-.94L8.5 2.5l-.94 2.06-2.06.94zm10 10l.94 2.06.94-2.06 2.06-.94-2.06-.94-.94-2.06-.94 2.06-2.06.94z\"/><path d=\"M17.41 7.96l-1.37-1.37c-.4-.4-.92-.59-1.43-.59-.52 0-1.04.2-1.43.59L10.3 9.45l-7.72 7.72c-.78.78-.78 2.05 0 2.83L4 21.41c.39.39.9.59 1.41.59.51 0 1.02-.2 1.41-.59l7.78-7.78 2.81-2.81c.8-.78.8-2.07 0-2.86zM5.41 20L4 18.59l7.72-7.72 1.47 1.35L5.41 20z\"/>\n",
              "  </svg>\n",
              "      </button>\n",
              "      \n",
              "  <style>\n",
              "    .colab-df-container {\n",
              "      display:flex;\n",
              "      flex-wrap:wrap;\n",
              "      gap: 12px;\n",
              "    }\n",
              "\n",
              "    .colab-df-convert {\n",
              "      background-color: #E8F0FE;\n",
              "      border: none;\n",
              "      border-radius: 50%;\n",
              "      cursor: pointer;\n",
              "      display: none;\n",
              "      fill: #1967D2;\n",
              "      height: 32px;\n",
              "      padding: 0 0 0 0;\n",
              "      width: 32px;\n",
              "    }\n",
              "\n",
              "    .colab-df-convert:hover {\n",
              "      background-color: #E2EBFA;\n",
              "      box-shadow: 0px 1px 2px rgba(60, 64, 67, 0.3), 0px 1px 3px 1px rgba(60, 64, 67, 0.15);\n",
              "      fill: #174EA6;\n",
              "    }\n",
              "\n",
              "    [theme=dark] .colab-df-convert {\n",
              "      background-color: #3B4455;\n",
              "      fill: #D2E3FC;\n",
              "    }\n",
              "\n",
              "    [theme=dark] .colab-df-convert:hover {\n",
              "      background-color: #434B5C;\n",
              "      box-shadow: 0px 1px 3px 1px rgba(0, 0, 0, 0.15);\n",
              "      filter: drop-shadow(0px 1px 2px rgba(0, 0, 0, 0.3));\n",
              "      fill: #FFFFFF;\n",
              "    }\n",
              "  </style>\n",
              "\n",
              "      <script>\n",
              "        const buttonEl =\n",
              "          document.querySelector('#df-de122614-c547-451d-922d-4f3797f66864 button.colab-df-convert');\n",
              "        buttonEl.style.display =\n",
              "          google.colab.kernel.accessAllowed ? 'block' : 'none';\n",
              "\n",
              "        async function convertToInteractive(key) {\n",
              "          const element = document.querySelector('#df-de122614-c547-451d-922d-4f3797f66864');\n",
              "          const dataTable =\n",
              "            await google.colab.kernel.invokeFunction('convertToInteractive',\n",
              "                                                     [key], {});\n",
              "          if (!dataTable) return;\n",
              "\n",
              "          const docLinkHtml = 'Like what you see? Visit the ' +\n",
              "            '<a target=\"_blank\" href=https://colab.research.google.com/notebooks/data_table.ipynb>data table notebook</a>'\n",
              "            + ' to learn more about interactive tables.';\n",
              "          element.innerHTML = '';\n",
              "          dataTable['output_type'] = 'display_data';\n",
              "          await google.colab.output.renderOutput(dataTable, element);\n",
              "          const docLink = document.createElement('div');\n",
              "          docLink.innerHTML = docLinkHtml;\n",
              "          element.appendChild(docLink);\n",
              "        }\n",
              "      </script>\n",
              "    </div>\n",
              "  </div>\n",
              "  "
            ]
          },
          "metadata": {},
          "execution_count": 84
        }
      ]
    },
    {
      "cell_type": "code",
      "source": [
        "df_brands_20['marque'].value_counts()"
      ],
      "metadata": {
        "colab": {
          "base_uri": "https://localhost:8080/"
        },
        "id": "25QjJ3DRq9j1",
        "outputId": "99569d24-f5c3-44a2-82f2-6a2fd0c56b15"
      },
      "execution_count": null,
      "outputs": [
        {
          "output_type": "execute_result",
          "data": {
            "text/plain": [
              "Volkswagen       3724\n",
              "Peugeot          3188\n",
              "Renault          2846\n",
              "Citroen          2250\n",
              "Fiat             1599\n",
              "Ford             1027\n",
              "Mercedes-Benz     959\n",
              "Kia               920\n",
              "BMW               779\n",
              "Opel              775\n",
              "Audi              615\n",
              "Nissan            592\n",
              "Toyota            527\n",
              "Isuzu             507\n",
              "Hyundai           502\n",
              "Seat              370\n",
              "Mercedes          356\n",
              "Chevrolet         351\n",
              "Dacia             310\n",
              "Mazda             307\n",
              "Name: marque, dtype: int64"
            ]
          },
          "metadata": {},
          "execution_count": 85
        }
      ]
    },
    {
      "cell_type": "markdown",
      "source": [
        "## Carburant\n",
        "\n",
        "1.   Élément de liste"
      ],
      "metadata": {
        "id": "54GP_YAArJ4i"
      }
    },
    {
      "cell_type": "code",
      "source": [
        "df_brands_20['Carburant'].value_counts()"
      ],
      "metadata": {
        "colab": {
          "base_uri": "https://localhost:8080/"
        },
        "id": "2tY2UlXZq9l8",
        "outputId": "7439a8fd-93c4-4f84-cbed-20556847da9c"
      },
      "execution_count": null,
      "outputs": [
        {
          "output_type": "execute_result",
          "data": {
            "text/plain": [
              "Essence    12955\n",
              "Diesel      7564\n",
              "0           1985\n",
              "Name: Carburant, dtype: int64"
            ]
          },
          "metadata": {},
          "execution_count": 86
        }
      ]
    },
    {
      "cell_type": "code",
      "source": [
        "(df_brands_20['Carburant'].value_counts()*100)/df_brands_20.shape[0]"
      ],
      "metadata": {
        "colab": {
          "base_uri": "https://localhost:8080/"
        },
        "id": "8B3W45bIq9ok",
        "outputId": "a9f52ce8-d959-4c78-c203-428b7270b352"
      },
      "execution_count": null,
      "outputs": [
        {
          "output_type": "execute_result",
          "data": {
            "text/plain": [
              "Essence    57.567544\n",
              "Diesel     33.611802\n",
              "0           8.820654\n",
              "Name: Carburant, dtype: float64"
            ]
          },
          "metadata": {},
          "execution_count": 87
        }
      ]
    },
    {
      "cell_type": "markdown",
      "source": [
        "we found out that the percent of nullable values of feature carburant is 8.82% is inconsiderable so we are going to drop it"
      ],
      "metadata": {
        "id": "xYJlICaRrcuO"
      }
    },
    {
      "cell_type": "code",
      "source": [
        "for i in df_brands_20.index:\n",
        "    if (df_brands_20.loc[i,'Carburant'] == '0'):\n",
        "         df_brands_20.drop(i, inplace=True)\n",
        "df_brands_20.shape  "
      ],
      "metadata": {
        "colab": {
          "base_uri": "https://localhost:8080/"
        },
        "id": "ufjhA4Ksq9qv",
        "outputId": "646d30c1-e5ef-40c8-c237-717afc3086ad"
      },
      "execution_count": null,
      "outputs": [
        {
          "output_type": "execute_result",
          "data": {
            "text/plain": [
              "(20519, 7)"
            ]
          },
          "metadata": {},
          "execution_count": 88
        }
      ]
    },
    {
      "cell_type": "code",
      "source": [
        "(df_brands_20['Carburant'].value_counts()*100)/df_brands_20.shape[0]"
      ],
      "metadata": {
        "colab": {
          "base_uri": "https://localhost:8080/"
        },
        "id": "XMOYLLdcq9tA",
        "outputId": "8f248c45-8765-4754-f6ae-c4c27a1704d7"
      },
      "execution_count": null,
      "outputs": [
        {
          "output_type": "execute_result",
          "data": {
            "text/plain": [
              "Essence    63.136605\n",
              "Diesel     36.863395\n",
              "Name: Carburant, dtype: float64"
            ]
          },
          "metadata": {},
          "execution_count": 89
        }
      ]
    },
    {
      "cell_type": "markdown",
      "source": [
        "##Transmission"
      ],
      "metadata": {
        "id": "a9gcWOdbrqo4"
      }
    },
    {
      "cell_type": "code",
      "source": [
        "df_brands_20['Transmission'].value_counts()"
      ],
      "metadata": {
        "colab": {
          "base_uri": "https://localhost:8080/"
        },
        "id": "t1sntVJAq9vU",
        "outputId": "d611fe13-c402-44ae-b81d-181a44b74021"
      },
      "execution_count": null,
      "outputs": [
        {
          "output_type": "execute_result",
          "data": {
            "text/plain": [
              "Manuelle       17643\n",
              "Automatique     2582\n",
              "0                294\n",
              "Name: Transmission, dtype: int64"
            ]
          },
          "metadata": {},
          "execution_count": 90
        }
      ]
    },
    {
      "cell_type": "code",
      "source": [
        "(df_brands_20['Transmission'].value_counts()*100)/df_brands_20.shape[0]"
      ],
      "metadata": {
        "colab": {
          "base_uri": "https://localhost:8080/"
        },
        "id": "-YnhTXj2q9y5",
        "outputId": "783f27ae-7157-46b6-ebdc-7146061feadd"
      },
      "execution_count": null,
      "outputs": [
        {
          "output_type": "execute_result",
          "data": {
            "text/plain": [
              "Manuelle       85.983722\n",
              "Automatique    12.583459\n",
              "0               1.432818\n",
              "Name: Transmission, dtype: float64"
            ]
          },
          "metadata": {},
          "execution_count": 91
        }
      ]
    },
    {
      "cell_type": "markdown",
      "source": [
        "we found out that the percent of nullable values of feature Transmission is 1.43% is inconsiderable so we are going to drop it"
      ],
      "metadata": {
        "id": "U-mEQ6arsPUh"
      }
    },
    {
      "cell_type": "code",
      "source": [
        "for i in df_brands_20.index:\n",
        "    if (df_brands_20.loc[i,'Transmission'] == '0'):\n",
        "      df_brands_20.drop(i, inplace=True)\n",
        "df_brands_20.shape"
      ],
      "metadata": {
        "colab": {
          "base_uri": "https://localhost:8080/"
        },
        "id": "SoMT0ptLsUZ2",
        "outputId": "e9cfe756-3ed5-4bda-8f9f-c13215627883"
      },
      "execution_count": null,
      "outputs": [
        {
          "output_type": "execute_result",
          "data": {
            "text/plain": [
              "(20225, 7)"
            ]
          },
          "metadata": {},
          "execution_count": 92
        }
      ]
    },
    {
      "cell_type": "code",
      "source": [
        "(df_brands_20['Transmission'].value_counts()*100)/df_brands_20.shape[0]"
      ],
      "metadata": {
        "colab": {
          "base_uri": "https://localhost:8080/"
        },
        "id": "Maxl577AsUby",
        "outputId": "f7c061b2-b602-49c8-c40a-5f0575a2656b"
      },
      "execution_count": null,
      "outputs": [
        {
          "output_type": "execute_result",
          "data": {
            "text/plain": [
              "Manuelle       87.233622\n",
              "Automatique    12.766378\n",
              "Name: Transmission, dtype: float64"
            ]
          },
          "metadata": {},
          "execution_count": 93
        }
      ]
    },
    {
      "cell_type": "markdown",
      "source": [
        "## Année"
      ],
      "metadata": {
        "id": "F1guCEIisdtq"
      }
    },
    {
      "cell_type": "markdown",
      "source": [
        "we found that mean of year = 1449 minimum value = 0 maximum value 9200 so we need to fix year values between 1990 and 2022 \n",
        "we gonna keep nullable values to fill it with mean values\n",
        "\n",
        "we are going to keep the data which have year between 1990 and 2022 \n",
        "and replace nullable values with third quartile"
      ],
      "metadata": {
        "id": "ixM6cSqZssB9"
      }
    },
    {
      "cell_type": "code",
      "source": [
        "df_brands_20['Annee']=df_brands_20['Annee'].replace(0, df_brands_20['Annee'].quantile(0.75))"
      ],
      "metadata": {
        "id": "lwcl3k70sUeM"
      },
      "execution_count": null,
      "outputs": []
    },
    {
      "cell_type": "code",
      "source": [
        "for i in df_brands_20.index:\n",
        "    if (df_brands_20.loc[i,'Annee'] < 0):\n",
        "        df_brands_20.loc[i,'Annee']=abs(df_brands_20.loc[i,'Annee'])"
      ],
      "metadata": {
        "id": "PdKBOYtOsUgm"
      },
      "execution_count": null,
      "outputs": []
    },
    {
      "cell_type": "code",
      "source": [
        "import time \n",
        "this_year = time.localtime().tm_year\n",
        "for i in df_brands_20.index:\n",
        "    if (df_brands_20.loc[i,'Annee'] < 1990) or (df_brands_20.loc[i,'Annee'] > this_year):\n",
        "        df_brands_20.drop(i, inplace=True)\n",
        "df_brands_20.shape"
      ],
      "metadata": {
        "colab": {
          "base_uri": "https://localhost:8080/"
        },
        "id": "i5sALQGnsUkH",
        "outputId": "9e50447d-4df3-47ee-c97e-59bbb540605e"
      },
      "execution_count": null,
      "outputs": [
        {
          "output_type": "execute_result",
          "data": {
            "text/plain": [
              "(19739, 7)"
            ]
          },
          "metadata": {},
          "execution_count": 96
        }
      ]
    },
    {
      "cell_type": "code",
      "source": [
        "df_brands_20['age'] =2022 - df_brands_20.Annee.astype(int) \n",
        "df_brands_20.head(5)"
      ],
      "metadata": {
        "colab": {
          "base_uri": "https://localhost:8080/",
          "height": 206
        },
        "id": "Uj-YPf4ytDtG",
        "outputId": "39a1da6c-6c8c-4f15-e930-2ebd28ea95aa"
      },
      "execution_count": null,
      "outputs": [
        {
          "output_type": "execute_result",
          "data": {
            "text/plain": [
              "      price         marque                  modele Transmission Carburant  \\\n",
              "1  105000.0         Toyota                Prado VX     Manuelle    Diesel   \n",
              "2   58000.0            BMW                X3 2.0 D     Manuelle    Diesel   \n",
              "3  217000.0  Mercedes-Benz  Classe E coupé KIT AMG  Automatique   Essence   \n",
              "4   79000.0         Nissan         Qashqai TEKNA +  Automatique   Essence   \n",
              "5   95500.0           Audi                 Q3 TFSI  Automatique   Essence   \n",
              "\n",
              "   Annee  Kilométrage  age  \n",
              "1   2008       154000   14  \n",
              "2   2006       125000   16  \n",
              "3   2017       102000    5  \n",
              "4   2017       115000    5  \n",
              "5   2017       100500    5  "
            ],
            "text/html": [
              "\n",
              "  <div id=\"df-2d55c100-f8c4-42a3-9e13-6715badf9af4\">\n",
              "    <div class=\"colab-df-container\">\n",
              "      <div>\n",
              "<style scoped>\n",
              "    .dataframe tbody tr th:only-of-type {\n",
              "        vertical-align: middle;\n",
              "    }\n",
              "\n",
              "    .dataframe tbody tr th {\n",
              "        vertical-align: top;\n",
              "    }\n",
              "\n",
              "    .dataframe thead th {\n",
              "        text-align: right;\n",
              "    }\n",
              "</style>\n",
              "<table border=\"1\" class=\"dataframe\">\n",
              "  <thead>\n",
              "    <tr style=\"text-align: right;\">\n",
              "      <th></th>\n",
              "      <th>price</th>\n",
              "      <th>marque</th>\n",
              "      <th>modele</th>\n",
              "      <th>Transmission</th>\n",
              "      <th>Carburant</th>\n",
              "      <th>Annee</th>\n",
              "      <th>Kilométrage</th>\n",
              "      <th>age</th>\n",
              "    </tr>\n",
              "  </thead>\n",
              "  <tbody>\n",
              "    <tr>\n",
              "      <th>1</th>\n",
              "      <td>105000.0</td>\n",
              "      <td>Toyota</td>\n",
              "      <td>Prado VX</td>\n",
              "      <td>Manuelle</td>\n",
              "      <td>Diesel</td>\n",
              "      <td>2008</td>\n",
              "      <td>154000</td>\n",
              "      <td>14</td>\n",
              "    </tr>\n",
              "    <tr>\n",
              "      <th>2</th>\n",
              "      <td>58000.0</td>\n",
              "      <td>BMW</td>\n",
              "      <td>X3 2.0 D</td>\n",
              "      <td>Manuelle</td>\n",
              "      <td>Diesel</td>\n",
              "      <td>2006</td>\n",
              "      <td>125000</td>\n",
              "      <td>16</td>\n",
              "    </tr>\n",
              "    <tr>\n",
              "      <th>3</th>\n",
              "      <td>217000.0</td>\n",
              "      <td>Mercedes-Benz</td>\n",
              "      <td>Classe E coupé KIT AMG</td>\n",
              "      <td>Automatique</td>\n",
              "      <td>Essence</td>\n",
              "      <td>2017</td>\n",
              "      <td>102000</td>\n",
              "      <td>5</td>\n",
              "    </tr>\n",
              "    <tr>\n",
              "      <th>4</th>\n",
              "      <td>79000.0</td>\n",
              "      <td>Nissan</td>\n",
              "      <td>Qashqai TEKNA +</td>\n",
              "      <td>Automatique</td>\n",
              "      <td>Essence</td>\n",
              "      <td>2017</td>\n",
              "      <td>115000</td>\n",
              "      <td>5</td>\n",
              "    </tr>\n",
              "    <tr>\n",
              "      <th>5</th>\n",
              "      <td>95500.0</td>\n",
              "      <td>Audi</td>\n",
              "      <td>Q3 TFSI</td>\n",
              "      <td>Automatique</td>\n",
              "      <td>Essence</td>\n",
              "      <td>2017</td>\n",
              "      <td>100500</td>\n",
              "      <td>5</td>\n",
              "    </tr>\n",
              "  </tbody>\n",
              "</table>\n",
              "</div>\n",
              "      <button class=\"colab-df-convert\" onclick=\"convertToInteractive('df-2d55c100-f8c4-42a3-9e13-6715badf9af4')\"\n",
              "              title=\"Convert this dataframe to an interactive table.\"\n",
              "              style=\"display:none;\">\n",
              "        \n",
              "  <svg xmlns=\"http://www.w3.org/2000/svg\" height=\"24px\"viewBox=\"0 0 24 24\"\n",
              "       width=\"24px\">\n",
              "    <path d=\"M0 0h24v24H0V0z\" fill=\"none\"/>\n",
              "    <path d=\"M18.56 5.44l.94 2.06.94-2.06 2.06-.94-2.06-.94-.94-2.06-.94 2.06-2.06.94zm-11 1L8.5 8.5l.94-2.06 2.06-.94-2.06-.94L8.5 2.5l-.94 2.06-2.06.94zm10 10l.94 2.06.94-2.06 2.06-.94-2.06-.94-.94-2.06-.94 2.06-2.06.94z\"/><path d=\"M17.41 7.96l-1.37-1.37c-.4-.4-.92-.59-1.43-.59-.52 0-1.04.2-1.43.59L10.3 9.45l-7.72 7.72c-.78.78-.78 2.05 0 2.83L4 21.41c.39.39.9.59 1.41.59.51 0 1.02-.2 1.41-.59l7.78-7.78 2.81-2.81c.8-.78.8-2.07 0-2.86zM5.41 20L4 18.59l7.72-7.72 1.47 1.35L5.41 20z\"/>\n",
              "  </svg>\n",
              "      </button>\n",
              "      \n",
              "  <style>\n",
              "    .colab-df-container {\n",
              "      display:flex;\n",
              "      flex-wrap:wrap;\n",
              "      gap: 12px;\n",
              "    }\n",
              "\n",
              "    .colab-df-convert {\n",
              "      background-color: #E8F0FE;\n",
              "      border: none;\n",
              "      border-radius: 50%;\n",
              "      cursor: pointer;\n",
              "      display: none;\n",
              "      fill: #1967D2;\n",
              "      height: 32px;\n",
              "      padding: 0 0 0 0;\n",
              "      width: 32px;\n",
              "    }\n",
              "\n",
              "    .colab-df-convert:hover {\n",
              "      background-color: #E2EBFA;\n",
              "      box-shadow: 0px 1px 2px rgba(60, 64, 67, 0.3), 0px 1px 3px 1px rgba(60, 64, 67, 0.15);\n",
              "      fill: #174EA6;\n",
              "    }\n",
              "\n",
              "    [theme=dark] .colab-df-convert {\n",
              "      background-color: #3B4455;\n",
              "      fill: #D2E3FC;\n",
              "    }\n",
              "\n",
              "    [theme=dark] .colab-df-convert:hover {\n",
              "      background-color: #434B5C;\n",
              "      box-shadow: 0px 1px 3px 1px rgba(0, 0, 0, 0.15);\n",
              "      filter: drop-shadow(0px 1px 2px rgba(0, 0, 0, 0.3));\n",
              "      fill: #FFFFFF;\n",
              "    }\n",
              "  </style>\n",
              "\n",
              "      <script>\n",
              "        const buttonEl =\n",
              "          document.querySelector('#df-2d55c100-f8c4-42a3-9e13-6715badf9af4 button.colab-df-convert');\n",
              "        buttonEl.style.display =\n",
              "          google.colab.kernel.accessAllowed ? 'block' : 'none';\n",
              "\n",
              "        async function convertToInteractive(key) {\n",
              "          const element = document.querySelector('#df-2d55c100-f8c4-42a3-9e13-6715badf9af4');\n",
              "          const dataTable =\n",
              "            await google.colab.kernel.invokeFunction('convertToInteractive',\n",
              "                                                     [key], {});\n",
              "          if (!dataTable) return;\n",
              "\n",
              "          const docLinkHtml = 'Like what you see? Visit the ' +\n",
              "            '<a target=\"_blank\" href=https://colab.research.google.com/notebooks/data_table.ipynb>data table notebook</a>'\n",
              "            + ' to learn more about interactive tables.';\n",
              "          element.innerHTML = '';\n",
              "          dataTable['output_type'] = 'display_data';\n",
              "          await google.colab.output.renderOutput(dataTable, element);\n",
              "          const docLink = document.createElement('div');\n",
              "          docLink.innerHTML = docLinkHtml;\n",
              "          element.appendChild(docLink);\n",
              "        }\n",
              "      </script>\n",
              "    </div>\n",
              "  </div>\n",
              "  "
            ]
          },
          "metadata": {},
          "execution_count": 97
        }
      ]
    },
    {
      "cell_type": "markdown",
      "source": [
        "## Kilométrage"
      ],
      "metadata": {
        "id": "_n7E1b1stSmU"
      }
    },
    {
      "cell_type": "code",
      "source": [
        "for i in df_brands_20.index:\n",
        "    if (df_brands_20.loc[i,'Kilométrage']<0):\n",
        "        df_brands_20.loc[i,'Kilométrage']=abs(df_brands_20.loc[i,'Kilométrage'])"
      ],
      "metadata": {
        "id": "13T_ZMYvtDvP"
      },
      "execution_count": null,
      "outputs": []
    },
    {
      "cell_type": "code",
      "source": [
        "for i in df_brands_20.index:\n",
        "    if(df_brands_20.loc[i,'Kilométrage']<1000):\n",
        "        df_brands_20.loc[i,'Kilométrage']=df_brands_20.loc[i,'Kilométrage']*1000"
      ],
      "metadata": {
        "id": "kaZw57hTtDzC"
      },
      "execution_count": null,
      "outputs": []
    },
    {
      "cell_type": "code",
      "source": [
        "for i in df_brands_20.index:\n",
        "    if(df_brands_20.loc[i,'Kilométrage'] >1000000):\n",
        "        df_brands_20.loc[i,'Kilométrage']= df_brands_20.loc[i,'Kilométrage']/1000"
      ],
      "metadata": {
        "id": "NVo9k4HSvJbO"
      },
      "execution_count": null,
      "outputs": []
    },
    {
      "cell_type": "code",
      "source": [
        "for i in df_brands_20.index:\n",
        "    if(df_brands_20.loc[i,'Kilométrage'] > 600000) or (df_brands_20.loc[i,'Kilométrage'] < 5000) :\n",
        "        df_brands_20.drop(i, inplace=True)\n",
        "df_brands_20.shape "
      ],
      "metadata": {
        "colab": {
          "base_uri": "https://localhost:8080/"
        },
        "id": "WOb2Bhw7vJdT",
        "outputId": "51c5309e-cda2-4b58-f26c-ea2fcabe91c9"
      },
      "execution_count": null,
      "outputs": [
        {
          "output_type": "execute_result",
          "data": {
            "text/plain": [
              "(12599, 8)"
            ]
          },
          "metadata": {},
          "execution_count": 101
        }
      ]
    },
    {
      "cell_type": "code",
      "source": [
        "a=df_brands_20[['marque','Kilométrage']]\n",
        "plt.figure(figsize=(50, 10))\n",
        "sns.boxplot(x='marque', y='Kilométrage', data=a)\n",
        "plt.show()"
      ],
      "metadata": {
        "colab": {
          "base_uri": "https://localhost:8080/",
          "height": 308
        },
        "id": "M5JuNgn0vJfp",
        "outputId": "98fad0b4-0371-40f1-de06-046c5caff187"
      },
      "execution_count": null,
      "outputs": [
        {
          "output_type": "display_data",
          "data": {
            "text/plain": [
              "<Figure size 3600x720 with 1 Axes>"
            ],
            "image/png": "[encoded data removed]"
          },
          "metadata": {
            "needs_background": "light"
          }
        }
      ]
    },
    {
      "cell_type": "code",
      "source": [
        "for i in df_brands_20.marque.unique():\n",
        "    bd_Marque_i= df_brands_20.loc[ df_brands_20.marque == i,['marque','Kilométrage']]\n",
        "    q1 = bd_Marque_i['Kilométrage'].quantile(0.25)\n",
        "    q3 = bd_Marque_i['Kilométrage'].quantile(0.75)\n",
        "    iqr = q3-q1 #Interquartile range\n",
        "    fence_low  = q1-1.5*iqr\n",
        "    fence_high = q3+1.5*iqr\n",
        "    for j in bd_Marque_i.index:\n",
        "        if((bd_Marque_i.loc[j,'Kilométrage'] < fence_low) or (bd_Marque_i.loc[j,'Kilométrage'] > fence_high)):\n",
        "            indice=j\n",
        "            df_brands_20.drop(indice, inplace=True)\n",
        "df_brands_20.shape  "
      ],
      "metadata": {
        "colab": {
          "base_uri": "https://localhost:8080/"
        },
        "id": "UN5utx5hvJjH",
        "outputId": "db049fd9-6fbf-422a-fbf0-53ede589046d"
      },
      "execution_count": null,
      "outputs": [
        {
          "output_type": "execute_result",
          "data": {
            "text/plain": [
              "(12352, 8)"
            ]
          },
          "metadata": {},
          "execution_count": 103
        }
      ]
    },
    {
      "cell_type": "code",
      "source": [
        "a=df_brands_20[['marque','Kilométrage']]\n",
        "plt.figure(figsize=(100, 10))\n",
        "sns.boxplot(x='marque', y='Kilométrage', data=a)\n",
        "plt.show()"
      ],
      "metadata": {
        "colab": {
          "base_uri": "https://localhost:8080/",
          "height": 164
        },
        "id": "jfopEqK1xDjl",
        "outputId": "0e744d65-fda9-4161-ff98-b3e63576a12c"
      },
      "execution_count": null,
      "outputs": [
        {
          "output_type": "display_data",
          "data": {
            "text/plain": [
              "<Figure size 7200x720 with 1 Axes>"
            ],
            "image/png": "[encoded data removed]"
          },
          "metadata": {
            "needs_background": "light"
          }
        }
      ]
    },
    {
      "cell_type": "code",
      "source": [
        "df_brands_20['Kilométrage'].describe()"
      ],
      "metadata": {
        "colab": {
          "base_uri": "https://localhost:8080/"
        },
        "id": "aJKNx49txDnH",
        "outputId": "959bb1f9-1f65-443c-aa61-c1a25e1641ac"
      },
      "execution_count": null,
      "outputs": [
        {
          "output_type": "execute_result",
          "data": {
            "text/plain": [
              "count     12352.000000\n",
              "mean     167798.441952\n",
              "std       91978.929842\n",
              "min        5000.000000\n",
              "25%      100000.000000\n",
              "50%      164000.000000\n",
              "75%      223000.000000\n",
              "max      600000.000000\n",
              "Name: Kilométrage, dtype: float64"
            ]
          },
          "metadata": {},
          "execution_count": 105
        }
      ]
    },
    {
      "cell_type": "markdown",
      "source": [
        "## Prix"
      ],
      "metadata": {
        "id": "s4h5xRmbxNQ4"
      }
    },
    {
      "cell_type": "code",
      "source": [
        "#replacing escape\n",
        "for i in df_brands_20.index:\n",
        "    df_brands_20.loc[i,'price']=str(df_brands_20['price'][i]).replace('\\xa0','')"
      ],
      "metadata": {
        "id": "6Gh6kkBTxNkx"
      },
      "execution_count": null,
      "outputs": []
    },
    {
      "cell_type": "code",
      "source": [
        "#replacing (.)\n",
        "for i in df_brands_20.index:\n",
        "    df_brands_20.loc[i,'price']=str(df_brands_20['price'][i]).replace('\\u202f','')"
      ],
      "metadata": {
        "id": "9FyiTlbtxNnM"
      },
      "execution_count": null,
      "outputs": []
    },
    {
      "cell_type": "code",
      "source": [
        "for i in df_brands_20.index:\n",
        "    if (df_brands_20.loc[i,'price']==\"nan\"):\n",
        "        df_brands_20.drop(i, inplace=True) \n",
        "df_brands_20.shape "
      ],
      "metadata": {
        "colab": {
          "base_uri": "https://localhost:8080/"
        },
        "id": "s1sWeHHHxNqu",
        "outputId": "b8334bfe-8299-48ac-a525-abb48f36ba68"
      },
      "execution_count": null,
      "outputs": [
        {
          "output_type": "execute_result",
          "data": {
            "text/plain": [
              "(12352, 8)"
            ]
          },
          "metadata": {},
          "execution_count": 108
        }
      ]
    },
    {
      "cell_type": "code",
      "source": [
        "df_brands_20[[\"price\"]] = df_brands_20[[\"price\"]].apply(pd.to_numeric)"
      ],
      "metadata": {
        "id": "qZV7VZ7uyTu2"
      },
      "execution_count": null,
      "outputs": []
    },
    {
      "cell_type": "code",
      "source": [
        "for i in df_brands_20.index:\n",
        "    if(df_brands_20.loc[i,'price']<1000):\n",
        "        df_brands_20.loc[i,'price']= df_brands_20.loc[i,'price']*1000"
      ],
      "metadata": {
        "id": "HL0D3Q5xyTw9"
      },
      "execution_count": null,
      "outputs": []
    },
    {
      "cell_type": "code",
      "source": [
        "for i in df_brands_20.index:\n",
        "    if(df_brands_20.loc[i,'price']>1000000):\n",
        "        df_brands_20.loc[i,'price']= df_brands_20.loc[i,'price']/1000"
      ],
      "metadata": {
        "id": "YCk0oBfIyTy0"
      },
      "execution_count": null,
      "outputs": []
    },
    {
      "cell_type": "code",
      "source": [
        "for i in df_brands_20.index:\n",
        "    if(df_brands_20.loc[i,'price']==0):\n",
        "        df_brands_20.drop(i, inplace=True) \n",
        "df_brands_20.shape  "
      ],
      "metadata": {
        "colab": {
          "base_uri": "https://localhost:8080/"
        },
        "id": "3gmI2rmtyT1F",
        "outputId": "6cb20a96-d1e5-457c-f22a-243f89fe920f"
      },
      "execution_count": null,
      "outputs": [
        {
          "output_type": "execute_result",
          "data": {
            "text/plain": [
              "(9942, 8)"
            ]
          },
          "metadata": {},
          "execution_count": 112
        }
      ]
    },
    {
      "cell_type": "code",
      "source": [
        "a= df_brands_20[['marque','price']]\n",
        "plt.figure(figsize=(50 , 10))\n",
        "plt.ylim(top = 600000)\n",
        "sns.boxplot(x='marque', y='price', data=a)\n",
        "plt.show()"
      ],
      "metadata": {
        "colab": {
          "base_uri": "https://localhost:8080/",
          "height": 310
        },
        "id": "ESAadiOByT3T",
        "outputId": "4a41af59-3130-4c09-d4af-b236e1974d7e"
      },
      "execution_count": null,
      "outputs": [
        {
          "output_type": "display_data",
          "data": {
            "text/plain": [
              "<Figure size 3600x720 with 1 Axes>"
            ],
            "image/png": "[encoded data removed]"
          },
          "metadata": {
            "needs_background": "light"
          }
        }
      ]
    },
    {
      "cell_type": "code",
      "source": [
        "for i in df_brands_20.marque.unique():\n",
        "    bd_Marque_i=df_brands_20.loc[df_brands_20.marque==i,['marque','price']]\n",
        "    q1 = bd_Marque_i['price'].quantile(0.25)\n",
        "    q3 = bd_Marque_i['price'].quantile(0.75)\n",
        "    iqr = q3-q1 #Interquartile range\n",
        "    fence_low  = q1-1.5*iqr\n",
        "    fence_high = q3+1.5*iqr\n",
        "    for j in bd_Marque_i.index:\n",
        "        if((bd_Marque_i.loc[j,'price']<fence_low) or (bd_Marque_i.loc[j,'price']>fence_high)):\n",
        "            indice=j\n",
        "            df_brands_20.drop(indice, inplace=True)\n",
        "df_brands_20.shape "
      ],
      "metadata": {
        "colab": {
          "base_uri": "https://localhost:8080/"
        },
        "id": "6o-2041ZyT6-",
        "outputId": "cbbd95aa-6ed4-4af1-d752-50efbd33026b"
      },
      "execution_count": null,
      "outputs": [
        {
          "output_type": "execute_result",
          "data": {
            "text/plain": [
              "(9355, 8)"
            ]
          },
          "metadata": {},
          "execution_count": 114
        }
      ]
    },
    {
      "cell_type": "code",
      "source": [
        "a=df_brands_20[['marque','price']]\n",
        "plt.figure(figsize=(50, 10))\n",
        "sns.boxplot(x='marque', y='price', data=a)\n",
        "plt.show()"
      ],
      "metadata": {
        "colab": {
          "base_uri": "https://localhost:8080/",
          "height": 308
        },
        "id": "9sYbgdHKy_DH",
        "outputId": "04e4718d-1f21-4399-fb42-df90eb5b24c7"
      },
      "execution_count": null,
      "outputs": [
        {
          "output_type": "display_data",
          "data": {
            "text/plain": [
              "<Figure size 3600x720 with 1 Axes>"
            ],
            "image/png": "[encoded data removed]"
          },
          "metadata": {
            "needs_background": "light"
          }
        }
      ]
    },
    {
      "cell_type": "code",
      "source": [
        "a=df_brands_20[['modele','price']]\n",
        "plt.figure(figsize=(50, 10))\n",
        "sns.boxplot(x='modele', y='price', data=a)\n",
        "plt.show()"
      ],
      "metadata": {
        "colab": {
          "base_uri": "https://localhost:8080/"
        },
        "id": "j1AE-Nnhy_Fa",
        "outputId": "1b8ed443-71fa-4b1e-aada-8fc5437e8b23"
      },
      "execution_count": null,
      "outputs": [
        {
          "output_type": "display_data",
          "data": {
            "text/plain": [
              "<Figure size 3600x720 with 1 Axes>"
            ],
            "image/png": "[encoded data removed]"
          },
          "metadata": {
            "needs_background": "light"
          }
        }
      ]
    },
    {
      "cell_type": "code",
      "source": [
        "df_brands_20['price'].describe()"
      ],
      "metadata": {
        "colab": {
          "base_uri": "https://localhost:8080/"
        },
        "id": "rPHZMjnPy_I3",
        "outputId": "0d3a1bf4-dd56-461f-f711-35347e1aaf06"
      },
      "execution_count": null,
      "outputs": [
        {
          "output_type": "execute_result",
          "data": {
            "text/plain": [
              "count      9355.000000\n",
              "mean      27607.980881\n",
              "std       19214.382803\n",
              "min           1.000000\n",
              "25%       15600.000000\n",
              "50%       24000.000000\n",
              "75%       35000.000000\n",
              "max      190000.000000\n",
              "Name: price, dtype: float64"
            ]
          },
          "metadata": {},
          "execution_count": 117
        }
      ]
    },
    {
      "cell_type": "code",
      "source": [
        "# Get mean of odometer readings by age\n",
        "grp_df = df_brands_20.groupby(by='age').mean()[['price','Kilométrage']].astype(int).reset_index()\n",
        "\n",
        "# Visualize how odometer average readings vary with price over age of cars\n",
        "# Set axes and points \n",
        "x = grp_df.Kilométrage\n",
        "y = grp_df.price\n",
        "points = grp_df.age\n",
        "s = [30*n for n in range(len(y))]\n",
        "\n",
        "f, ax = plt.subplots(figsize=(12, 8))\n",
        "# Plot for each year\n",
        "plt.title(f\"Mean of Kilometrage vs Price over age of cars\")\n",
        "plt.xlabel(\"Kilometrage Readings (mean)\")\n",
        "plt.ylabel(\"Price (mean) ($)\")\n",
        "\n",
        "# Add labels for weeks\n",
        "for i, week in enumerate(points):\n",
        "    plt.annotate(week, (x[i], y[i]), size=14, va=\"bottom\", ha=\"center\")\n",
        "    plt.scatter(x, y, s=s)\n",
        "\n",
        "plt.show()"
      ],
      "metadata": {
        "colab": {
          "base_uri": "https://localhost:8080/",
          "height": 54
        },
        "id": "tafmzDVuzoyS",
        "outputId": "4cc4a519-1476-4cf6-942c-2d1e48538a1a"
      },
      "execution_count": null,
      "outputs": [
        {
          "output_type": "display_data",
          "data": {
            "text/plain": [
              "<Figure size 864x576 with 1 Axes>"
            ],
            "image/png": "[encoded data removed]"
          },
          "metadata": {
            "needs_background": "light"
          }
        }
      ]
    },
    {
      "cell_type": "markdown",
      "source": [
        "##Last Dataset to csv"
      ],
      "metadata": {
        "id": "00AbH33t0Yia"
      }
    },
    {
      "cell_type": "code",
      "source": [
        "from google.colab import files\n",
        "\n",
        "df_brands_20.to_csv('dridi.csv',encoding = 'utf-8-sig') \n",
        "files.download('dridi.csv')"
      ],
      "metadata": {
        "colab": {
          "base_uri": "https://localhost:8080/",
          "height": 17
        },
        "id": "6Uz-_w90zo0k",
        "outputId": "16248ad6-a857-40ab-c1b1-bb70526ec844"
      },
      "execution_count": null,
      "outputs": [
        {
          "output_type": "display_data",
          "data": {
            "text/plain": [
              "<IPython.core.display.Javascript object>"
            ],
            "application/javascript": [
              "\n",
              "    async function download(id, filename, size) {\n",
              "      if (!google.colab.kernel.accessAllowed) {\n",
              "        return;\n",
              "      }\n",
              "      const div = document.createElement('div');\n",
              "      const label = document.createElement('label');\n",
              "      label.textContent = `Downloading \"${filename}\": `;\n",
              "      div.appendChild(label);\n",
              "      const progress = document.createElement('progress');\n",
              "      progress.max = size;\n",
              "      div.appendChild(progress);\n",
              "      document.body.appendChild(div);\n",
              "\n",
              "      const buffers = [];\n",
              "      let downloaded = 0;\n",
              "\n",
              "      const channel = await google.colab.kernel.comms.open(id);\n",
              "      // Send a message to notify the kernel that we're ready.\n",
              "      channel.send({})\n",
              "\n",
              "      for await (const message of channel.messages) {\n",
              "        // Send a message to notify the kernel that we're ready.\n",
              "        channel.send({})\n",
              "        if (message.buffers) {\n",
              "          for (const buffer of message.buffers) {\n",
              "            buffers.push(buffer);\n",
              "            downloaded += buffer.byteLength;\n",
              "            progress.value = downloaded;\n",
              "          }\n",
              "        }\n",
              "      }\n",
              "      const blob = new Blob(buffers, {type: 'application/binary'});\n",
              "      const a = document.createElement('a');\n",
              "      a.href = window.URL.createObjectURL(blob);\n",
              "      a.download = filename;\n",
              "      div.appendChild(a);\n",
              "      a.click();\n",
              "      div.remove();\n",
              "    }\n",
              "  "
            ]
          },
          "metadata": {}
        },
        {
          "output_type": "display_data",
          "data": {
            "text/plain": [
              "<IPython.core.display.Javascript object>"
            ],
            "application/javascript": [
              "download(\"download_959c2bcb-fd55-4bfa-82c8-002d6b9db076\", \"dridi.csv\", 568970)"
            ]
          },
          "metadata": {}
        }
      ]
    },
    {
      "cell_type": "code",
      "source": [
        ""
      ],
      "metadata": {
        "id": "AIXHFf5Ezo26"
      },
      "execution_count": null,
      "outputs": []
    },
    {
      "cell_type": "code",
      "source": [
        ""
      ],
      "metadata": {
        "id": "T2ceVPGWzo6V"
      },
      "execution_count": null,
      "outputs": []
    }
  ]
}